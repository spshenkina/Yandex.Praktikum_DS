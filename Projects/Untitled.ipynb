{
 "cells": [
  {
   "cell_type": "markdown",
   "id": "160bf0aa-61a5-4e4a-88f4-3e5cfa999797",
   "metadata": {},
   "source": [
    "# Определение стоимости автомобилей"
   ]
  },
  {
   "cell_type": "markdown",
   "id": "97d45a6b-26ad-454d-aaaa-86ed168a48b4",
   "metadata": {},
   "source": [
    "### Описание проекта"
   ]
  },
  {
   "cell_type": "markdown",
   "id": "9a8a3a83-5a0e-469c-ba3e-fece717df518",
   "metadata": {},
   "source": [
    "В рамках проекта по развитию сервиса по продаже автомобилей с пробегом «Не бит, не крашен» планируется создание пользовательского приложения, позволяющего быстро и удобно получить оценку рыночной стоимости автомобиля. Такой функционал поможет привлечь новых клиентов, повысить вовлечённость и автоматизировать первичную оценку транспортных средств.\n",
    "\n",
    "**Цель:**\n",
    "Наша задача — разработать и внедрить модель машинного обучения, которая будет предсказывать стоимость автомобилей на основе их технических характеристик. Особое внимание необходимо уделить:\n",
    "- высокому качеству предсказания;\n",
    "- минимальному времени предсказании;\n",
    "- оптимальному времени обучения модели.\n",
    "\n",
    "**Ход решения:**\n",
    "1. **Загрузка и первичный анализ данных**    \n",
    "На первом этапе мы загружаем датасет `autos.csv`. Далее проводим обзор данных:\n",
    "    * формат данных признаков,\n",
    "    * распределение значений,\n",
    "    * наличие пропусков.\n",
    "2. **Очистка и предобработка**    \n",
    "Заполняем пропущенные значения, устраняем аномалии и проверяем выбросы в числовых признаках. Также исключаем неинформативные или дублирующие столбцы, которые не несут ценности для модели. \n",
    "3. **Подготовка выборок**    \n",
    "Данные делим на обучающую и тестовую выборки. Категориальные признаки кодируем, а числовые могут масштабироваться при необходимости.\n",
    "4. **Обучение моделей и подбор гиперпараметров**    \n",
    "Мы обучаем несколько моделей, включая:\n",
    "    * LightGBM — как эффективный градиентный бустинг;\n",
    "    * модели без бустинга — например, линейную регрессию и случайный лес.\n",
    "Для каждой модели подбираем оптимальные гиперпараметры с помощью RandomizedSearch.\n",
    "5. **Оценка и сравнение моделей**    \n",
    "Для всех моделей измеряем:\n",
    "    * качество предсказания по метрике RMSE, где она не превышает 2500,\n",
    "    * время обучения,\n",
    "    * время предсказания на новых данных.\n",
    "6. **Выбор лучшей модели и финальная проверка**    \n",
    "Опираясь на критерии заказчика (точность, быстрота, обучаемость), выбираем оптимальную модель. Её финальное качество проверяется на тестовой выборке, не участвовавшей в обучении."
   ]
  },
  {
   "cell_type": "markdown",
   "id": "de3d4ae6-5944-436b-bb01-5c770d14e285",
   "metadata": {},
   "source": [
    "**Входные признаки:**   \n",
    "`DateCrawled` — дата скачивания анкеты из базы    \n",
    "`VehicleType` — тип автомобильного кузова    \n",
    "`RegistrationYear` — год регистрации автомобиля    \n",
    "`Gearbox` — тип коробки передач    \n",
    "`Power` — мощность (л. с.)    \n",
    "`Model` — модель автомобиля    \n",
    "`Kilometer` — пробег (км)    \n",
    "`RegistrationMonth` — месяц регистрации автомобиля    \n",
    "`FuelType` — тип топлива    \n",
    "`Brand` — марка автомобиля    \n",
    "`Repaired` — была машина в ремонте или нет    \n",
    "`DateCreated` — дата создания анкеты    \n",
    "`NumberOfPictures` — количество фотографий автомобиля    \n",
    "`PostalCode` — почтовый индекс владельца анкеты (пользователя)    \n",
    "`LastSeen` — дата последней активности пользователя    "
   ]
  },
  {
   "cell_type": "markdown",
   "id": "a583536e-faf1-46cc-a4f2-6d3eb7b61ca9",
   "metadata": {},
   "source": [
    "**Целевой признак:**    \n",
    "`Price` — цена (евро)"
   ]
  },
  {
   "cell_type": "markdown",
   "id": "f7b7439e-c4fc-4e16-9c5c-56624363e7e4",
   "metadata": {},
   "source": [
    "## Импорт библиотек"
   ]
  },
  {
   "cell_type": "code",
   "execution_count": 7,
   "id": "a82cd0ba-16a6-4cc3-a8bd-f14b0c7633a0",
   "metadata": {},
   "outputs": [],
   "source": [
    "!pip install phik -q"
   ]
  },
  {
   "cell_type": "code",
   "execution_count": 8,
   "id": "811c9679-6587-4ab2-891f-b5a642ece589",
   "metadata": {},
   "outputs": [
    {
     "name": "stdout",
     "output_type": "stream",
     "text": [
      "Requirement already satisfied: lightgbm in /opt/anaconda3/lib/python3.12/site-packages (4.6.0)\n",
      "Requirement already satisfied: numpy>=1.17.0 in /opt/anaconda3/lib/python3.12/site-packages (from lightgbm) (1.26.4)\n",
      "Requirement already satisfied: scipy in /opt/anaconda3/lib/python3.12/site-packages (from lightgbm) (1.13.1)\n",
      "Note: you may need to restart the kernel to use updated packages.\n"
     ]
    }
   ],
   "source": [
    "pip install lightgbm"
   ]
  },
  {
   "cell_type": "code",
   "execution_count": 9,
   "id": "a2864382-7faf-4f34-9a5c-e42b7d475ea7",
   "metadata": {},
   "outputs": [],
   "source": [
    "import pandas as pd\n",
    "import numpy as np\n",
    "import matplotlib.pyplot as plt\n",
    "import seaborn as sns\n",
    "import time\n",
    "import lightgbm as lgb\n",
    "\n",
    "from phik import phik_matrix\n",
    "from sklearn.model_selection import train_test_split, RandomizedSearchCV, GridSearchCV\n",
    "from sklearn.pipeline import Pipeline\n",
    "from sklearn.preprocessing import (\n",
    "    OneHotEncoder,\n",
    "    OrdinalEncoder,\n",
    "    StandardScaler,\n",
    "    MinMaxScaler,\n",
    "    RobustScaler,\n",
    "    LabelEncoder\n",
    ")\n",
    "\n",
    "from sklearn.compose import ColumnTransformer\n",
    "from sklearn.impute import SimpleImputer\n",
    "from sklearn.linear_model import LinearRegression\n",
    "from sklearn.metrics import make_scorer, mean_squared_error\n",
    "from sklearn.ensemble import RandomForestRegressor\n",
    "from scipy.stats import uniform"
   ]
  },
  {
   "cell_type": "code",
   "execution_count": 10,
   "id": "ef6e7ed4-542a-4bc4-a8f4-1bfab91bce43",
   "metadata": {},
   "outputs": [],
   "source": [
    "import warnings\n",
    "\n",
    "warnings.filterwarnings(\"ignore\")"
   ]
  },
  {
   "cell_type": "markdown",
   "id": "065b0914-4a7a-4591-a99e-7c5f8dd7aacd",
   "metadata": {},
   "source": [
    "## Добавление функций"
   ]
  },
  {
   "cell_type": "code",
   "execution_count": 12,
   "id": "02a87380-f677-475b-b7c1-22415f7f7bfd",
   "metadata": {},
   "outputs": [],
   "source": [
    "def df_review(df):\n",
    "    \"\"\"Выполняет первичный обзор DataFrame: отображает первые строки, информацию о столбцах и описание статистики данных.\"\"\"\n",
    "    display(df.head())\n",
    "    df.info()\n",
    "    display(df.describe())"
   ]
  },
  {
   "cell_type": "code",
   "execution_count": 13,
   "id": "e27f3f6d-d3ea-461a-be39-696f68ef5142",
   "metadata": {},
   "outputs": [],
   "source": [
    "def run_search(name, pipeline, param_dist):\n",
    "    \"\"\"Выполняет подбор гиперпараметров с помощью RandomizedSearchCV, обучает переданный pipeline на обучающей выборке \n",
    "    и возвращает обученный объект поиска вместе с временем, затраченным на обучение.\"\"\"\n",
    "    t0 = time.perf_counter()\n",
    "    search = RandomizedSearchCV(\n",
    "        pipeline,\n",
    "        param_dist,\n",
    "        n_iter=12,\n",
    "        cv=3,\n",
    "        n_jobs=-1,\n",
    "        random_state=RANDOM_STATE,\n",
    "        scoring=\"neg_root_mean_squared_error\",\n",
    "        verbose=0,\n",
    "    )\n",
    "    search.fit(X_train, y_train)\n",
    "    return search, time.perf_counter() - t0"
   ]
  },
  {
   "cell_type": "code",
   "execution_count": 14,
   "id": "acb134f6-f103-45e5-9841-efeab88dd968",
   "metadata": {},
   "outputs": [],
   "source": [
    "def timed_pred(model):\n",
    "    \"\"\"Выполняет предсказание на тестовой выборке и измеряет время, затраченное на это.\"\"\"\n",
    "    t0 = time.perf_counter(); pred = model.predict(X_test); return pred, time.perf_counter() - t0"
   ]
  },
  {
   "cell_type": "code",
   "execution_count": 15,
   "id": "188d1fb0-f06c-46bc-a4b8-8447e2489ab3",
   "metadata": {},
   "outputs": [],
   "source": [
    "def evaluate(name, pred, train_t, pred_t):\n",
    "    \"\"\"Оценивает качество модели на тестовой выборке и формирует словарь с результатами.\"\"\"\n",
    "    rmse = mean_squared_error(y_test, pred, squared=False)\n",
    "    return {\n",
    "        \"Model\": name,\n",
    "        \"RMSE\": rmse,\n",
    "        \"TrainTime_s\": train_t,\n",
    "        \"PredictTime_ms\": pred_t * 1e3,\n",
    "        \"Pass\": rmse < 2500,\n",
    "    }"
   ]
  },
  {
   "cell_type": "markdown",
   "id": "7a4349ab-3623-4c12-a6ac-2732e31b638b",
   "metadata": {},
   "source": [
    "## Загрузка данных"
   ]
  },
  {
   "cell_type": "code",
   "execution_count": 17,
   "id": "7a2e1b3b-6bae-4657-962e-c4e39dd9771a",
   "metadata": {},
   "outputs": [],
   "source": [
    "df_autos = pd.read_csv(\"autos.csv\")"
   ]
  },
  {
   "cell_type": "code",
   "execution_count": 18,
   "id": "f0ae8ea9-e7ba-47bd-bf0d-7ee4b822d53d",
   "metadata": {},
   "outputs": [
    {
     "data": {
      "text/html": [
       "<div>\n",
       "<style scoped>\n",
       "    .dataframe tbody tr th:only-of-type {\n",
       "        vertical-align: middle;\n",
       "    }\n",
       "\n",
       "    .dataframe tbody tr th {\n",
       "        vertical-align: top;\n",
       "    }\n",
       "\n",
       "    .dataframe thead th {\n",
       "        text-align: right;\n",
       "    }\n",
       "</style>\n",
       "<table border=\"1\" class=\"dataframe\">\n",
       "  <thead>\n",
       "    <tr style=\"text-align: right;\">\n",
       "      <th></th>\n",
       "      <th>DateCrawled</th>\n",
       "      <th>Price</th>\n",
       "      <th>VehicleType</th>\n",
       "      <th>RegistrationYear</th>\n",
       "      <th>Gearbox</th>\n",
       "      <th>Power</th>\n",
       "      <th>Model</th>\n",
       "      <th>Kilometer</th>\n",
       "      <th>RegistrationMonth</th>\n",
       "      <th>FuelType</th>\n",
       "      <th>Brand</th>\n",
       "      <th>Repaired</th>\n",
       "      <th>DateCreated</th>\n",
       "      <th>NumberOfPictures</th>\n",
       "      <th>PostalCode</th>\n",
       "      <th>LastSeen</th>\n",
       "    </tr>\n",
       "  </thead>\n",
       "  <tbody>\n",
       "    <tr>\n",
       "      <th>0</th>\n",
       "      <td>2016-03-24 11:52:17</td>\n",
       "      <td>480</td>\n",
       "      <td>NaN</td>\n",
       "      <td>1993</td>\n",
       "      <td>manual</td>\n",
       "      <td>0</td>\n",
       "      <td>golf</td>\n",
       "      <td>150000</td>\n",
       "      <td>0</td>\n",
       "      <td>petrol</td>\n",
       "      <td>volkswagen</td>\n",
       "      <td>NaN</td>\n",
       "      <td>2016-03-24 00:00:00</td>\n",
       "      <td>0</td>\n",
       "      <td>70435</td>\n",
       "      <td>2016-04-07 03:16:57</td>\n",
       "    </tr>\n",
       "    <tr>\n",
       "      <th>1</th>\n",
       "      <td>2016-03-24 10:58:45</td>\n",
       "      <td>18300</td>\n",
       "      <td>coupe</td>\n",
       "      <td>2011</td>\n",
       "      <td>manual</td>\n",
       "      <td>190</td>\n",
       "      <td>NaN</td>\n",
       "      <td>125000</td>\n",
       "      <td>5</td>\n",
       "      <td>gasoline</td>\n",
       "      <td>audi</td>\n",
       "      <td>yes</td>\n",
       "      <td>2016-03-24 00:00:00</td>\n",
       "      <td>0</td>\n",
       "      <td>66954</td>\n",
       "      <td>2016-04-07 01:46:50</td>\n",
       "    </tr>\n",
       "    <tr>\n",
       "      <th>2</th>\n",
       "      <td>2016-03-14 12:52:21</td>\n",
       "      <td>9800</td>\n",
       "      <td>suv</td>\n",
       "      <td>2004</td>\n",
       "      <td>auto</td>\n",
       "      <td>163</td>\n",
       "      <td>grand</td>\n",
       "      <td>125000</td>\n",
       "      <td>8</td>\n",
       "      <td>gasoline</td>\n",
       "      <td>jeep</td>\n",
       "      <td>NaN</td>\n",
       "      <td>2016-03-14 00:00:00</td>\n",
       "      <td>0</td>\n",
       "      <td>90480</td>\n",
       "      <td>2016-04-05 12:47:46</td>\n",
       "    </tr>\n",
       "    <tr>\n",
       "      <th>3</th>\n",
       "      <td>2016-03-17 16:54:04</td>\n",
       "      <td>1500</td>\n",
       "      <td>small</td>\n",
       "      <td>2001</td>\n",
       "      <td>manual</td>\n",
       "      <td>75</td>\n",
       "      <td>golf</td>\n",
       "      <td>150000</td>\n",
       "      <td>6</td>\n",
       "      <td>petrol</td>\n",
       "      <td>volkswagen</td>\n",
       "      <td>no</td>\n",
       "      <td>2016-03-17 00:00:00</td>\n",
       "      <td>0</td>\n",
       "      <td>91074</td>\n",
       "      <td>2016-03-17 17:40:17</td>\n",
       "    </tr>\n",
       "    <tr>\n",
       "      <th>4</th>\n",
       "      <td>2016-03-31 17:25:20</td>\n",
       "      <td>3600</td>\n",
       "      <td>small</td>\n",
       "      <td>2008</td>\n",
       "      <td>manual</td>\n",
       "      <td>69</td>\n",
       "      <td>fabia</td>\n",
       "      <td>90000</td>\n",
       "      <td>7</td>\n",
       "      <td>gasoline</td>\n",
       "      <td>skoda</td>\n",
       "      <td>no</td>\n",
       "      <td>2016-03-31 00:00:00</td>\n",
       "      <td>0</td>\n",
       "      <td>60437</td>\n",
       "      <td>2016-04-06 10:17:21</td>\n",
       "    </tr>\n",
       "  </tbody>\n",
       "</table>\n",
       "</div>"
      ],
      "text/plain": [
       "           DateCrawled  Price VehicleType  RegistrationYear Gearbox  Power  \\\n",
       "0  2016-03-24 11:52:17    480         NaN              1993  manual      0   \n",
       "1  2016-03-24 10:58:45  18300       coupe              2011  manual    190   \n",
       "2  2016-03-14 12:52:21   9800         suv              2004    auto    163   \n",
       "3  2016-03-17 16:54:04   1500       small              2001  manual     75   \n",
       "4  2016-03-31 17:25:20   3600       small              2008  manual     69   \n",
       "\n",
       "   Model  Kilometer  RegistrationMonth  FuelType       Brand Repaired  \\\n",
       "0   golf     150000                  0    petrol  volkswagen      NaN   \n",
       "1    NaN     125000                  5  gasoline        audi      yes   \n",
       "2  grand     125000                  8  gasoline        jeep      NaN   \n",
       "3   golf     150000                  6    petrol  volkswagen       no   \n",
       "4  fabia      90000                  7  gasoline       skoda       no   \n",
       "\n",
       "           DateCreated  NumberOfPictures  PostalCode             LastSeen  \n",
       "0  2016-03-24 00:00:00                 0       70435  2016-04-07 03:16:57  \n",
       "1  2016-03-24 00:00:00                 0       66954  2016-04-07 01:46:50  \n",
       "2  2016-03-14 00:00:00                 0       90480  2016-04-05 12:47:46  \n",
       "3  2016-03-17 00:00:00                 0       91074  2016-03-17 17:40:17  \n",
       "4  2016-03-31 00:00:00                 0       60437  2016-04-06 10:17:21  "
      ]
     },
     "metadata": {},
     "output_type": "display_data"
    },
    {
     "name": "stdout",
     "output_type": "stream",
     "text": [
      "<class 'pandas.core.frame.DataFrame'>\n",
      "RangeIndex: 354369 entries, 0 to 354368\n",
      "Data columns (total 16 columns):\n",
      " #   Column             Non-Null Count   Dtype \n",
      "---  ------             --------------   ----- \n",
      " 0   DateCrawled        354369 non-null  object\n",
      " 1   Price              354369 non-null  int64 \n",
      " 2   VehicleType        316879 non-null  object\n",
      " 3   RegistrationYear   354369 non-null  int64 \n",
      " 4   Gearbox            334536 non-null  object\n",
      " 5   Power              354369 non-null  int64 \n",
      " 6   Model              334664 non-null  object\n",
      " 7   Kilometer          354369 non-null  int64 \n",
      " 8   RegistrationMonth  354369 non-null  int64 \n",
      " 9   FuelType           321474 non-null  object\n",
      " 10  Brand              354369 non-null  object\n",
      " 11  Repaired           283215 non-null  object\n",
      " 12  DateCreated        354369 non-null  object\n",
      " 13  NumberOfPictures   354369 non-null  int64 \n",
      " 14  PostalCode         354369 non-null  int64 \n",
      " 15  LastSeen           354369 non-null  object\n",
      "dtypes: int64(7), object(9)\n",
      "memory usage: 43.3+ MB\n"
     ]
    },
    {
     "data": {
      "text/html": [
       "<div>\n",
       "<style scoped>\n",
       "    .dataframe tbody tr th:only-of-type {\n",
       "        vertical-align: middle;\n",
       "    }\n",
       "\n",
       "    .dataframe tbody tr th {\n",
       "        vertical-align: top;\n",
       "    }\n",
       "\n",
       "    .dataframe thead th {\n",
       "        text-align: right;\n",
       "    }\n",
       "</style>\n",
       "<table border=\"1\" class=\"dataframe\">\n",
       "  <thead>\n",
       "    <tr style=\"text-align: right;\">\n",
       "      <th></th>\n",
       "      <th>Price</th>\n",
       "      <th>RegistrationYear</th>\n",
       "      <th>Power</th>\n",
       "      <th>Kilometer</th>\n",
       "      <th>RegistrationMonth</th>\n",
       "      <th>NumberOfPictures</th>\n",
       "      <th>PostalCode</th>\n",
       "    </tr>\n",
       "  </thead>\n",
       "  <tbody>\n",
       "    <tr>\n",
       "      <th>count</th>\n",
       "      <td>354369.000000</td>\n",
       "      <td>354369.000000</td>\n",
       "      <td>354369.000000</td>\n",
       "      <td>354369.000000</td>\n",
       "      <td>354369.000000</td>\n",
       "      <td>354369.0</td>\n",
       "      <td>354369.000000</td>\n",
       "    </tr>\n",
       "    <tr>\n",
       "      <th>mean</th>\n",
       "      <td>4416.656776</td>\n",
       "      <td>2004.234448</td>\n",
       "      <td>110.094337</td>\n",
       "      <td>128211.172535</td>\n",
       "      <td>5.714645</td>\n",
       "      <td>0.0</td>\n",
       "      <td>50508.689087</td>\n",
       "    </tr>\n",
       "    <tr>\n",
       "      <th>std</th>\n",
       "      <td>4514.158514</td>\n",
       "      <td>90.227958</td>\n",
       "      <td>189.850405</td>\n",
       "      <td>37905.341530</td>\n",
       "      <td>3.726421</td>\n",
       "      <td>0.0</td>\n",
       "      <td>25783.096248</td>\n",
       "    </tr>\n",
       "    <tr>\n",
       "      <th>min</th>\n",
       "      <td>0.000000</td>\n",
       "      <td>1000.000000</td>\n",
       "      <td>0.000000</td>\n",
       "      <td>5000.000000</td>\n",
       "      <td>0.000000</td>\n",
       "      <td>0.0</td>\n",
       "      <td>1067.000000</td>\n",
       "    </tr>\n",
       "    <tr>\n",
       "      <th>25%</th>\n",
       "      <td>1050.000000</td>\n",
       "      <td>1999.000000</td>\n",
       "      <td>69.000000</td>\n",
       "      <td>125000.000000</td>\n",
       "      <td>3.000000</td>\n",
       "      <td>0.0</td>\n",
       "      <td>30165.000000</td>\n",
       "    </tr>\n",
       "    <tr>\n",
       "      <th>50%</th>\n",
       "      <td>2700.000000</td>\n",
       "      <td>2003.000000</td>\n",
       "      <td>105.000000</td>\n",
       "      <td>150000.000000</td>\n",
       "      <td>6.000000</td>\n",
       "      <td>0.0</td>\n",
       "      <td>49413.000000</td>\n",
       "    </tr>\n",
       "    <tr>\n",
       "      <th>75%</th>\n",
       "      <td>6400.000000</td>\n",
       "      <td>2008.000000</td>\n",
       "      <td>143.000000</td>\n",
       "      <td>150000.000000</td>\n",
       "      <td>9.000000</td>\n",
       "      <td>0.0</td>\n",
       "      <td>71083.000000</td>\n",
       "    </tr>\n",
       "    <tr>\n",
       "      <th>max</th>\n",
       "      <td>20000.000000</td>\n",
       "      <td>9999.000000</td>\n",
       "      <td>20000.000000</td>\n",
       "      <td>150000.000000</td>\n",
       "      <td>12.000000</td>\n",
       "      <td>0.0</td>\n",
       "      <td>99998.000000</td>\n",
       "    </tr>\n",
       "  </tbody>\n",
       "</table>\n",
       "</div>"
      ],
      "text/plain": [
       "               Price  RegistrationYear          Power      Kilometer  \\\n",
       "count  354369.000000     354369.000000  354369.000000  354369.000000   \n",
       "mean     4416.656776       2004.234448     110.094337  128211.172535   \n",
       "std      4514.158514         90.227958     189.850405   37905.341530   \n",
       "min         0.000000       1000.000000       0.000000    5000.000000   \n",
       "25%      1050.000000       1999.000000      69.000000  125000.000000   \n",
       "50%      2700.000000       2003.000000     105.000000  150000.000000   \n",
       "75%      6400.000000       2008.000000     143.000000  150000.000000   \n",
       "max     20000.000000       9999.000000   20000.000000  150000.000000   \n",
       "\n",
       "       RegistrationMonth  NumberOfPictures     PostalCode  \n",
       "count      354369.000000          354369.0  354369.000000  \n",
       "mean            5.714645               0.0   50508.689087  \n",
       "std             3.726421               0.0   25783.096248  \n",
       "min             0.000000               0.0    1067.000000  \n",
       "25%             3.000000               0.0   30165.000000  \n",
       "50%             6.000000               0.0   49413.000000  \n",
       "75%             9.000000               0.0   71083.000000  \n",
       "max            12.000000               0.0   99998.000000  "
      ]
     },
     "metadata": {},
     "output_type": "display_data"
    }
   ],
   "source": [
    "df_review(df_autos)"
   ]
  },
  {
   "cell_type": "markdown",
   "id": "8163436f-4dc4-4cc7-a567-b4a488da9ef1",
   "metadata": {},
   "source": [
    "### Изменение формата данных"
   ]
  },
  {
   "cell_type": "markdown",
   "id": "95c21479-160c-40b7-8a62-ae466a70902a",
   "metadata": {},
   "source": [
    "Приведём формат данных для признаков с датой к формату datetime. Для признака `DateCreated` нам будет релевантна только дата без времени."
   ]
  },
  {
   "cell_type": "code",
   "execution_count": 21,
   "id": "f7858715-afa3-45f3-ad0a-92f17d8f4975",
   "metadata": {},
   "outputs": [],
   "source": [
    "df_autos['DateCreated'] = pd.to_datetime(\n",
    "    df_autos['DateCreated'].str.split().str[0],\n",
    "    format='%Y-%m-%d'\n",
    ")"
   ]
  },
  {
   "cell_type": "code",
   "execution_count": 22,
   "id": "dc5eb766-658c-40b0-adb6-340a15ad56ee",
   "metadata": {},
   "outputs": [],
   "source": [
    "df_autos['DateCrawled'] = pd.to_datetime(df_autos['DateCrawled'], format='%Y-%m-%d %H:%M:%S')\n",
    "df_autos['LastSeen'] = pd.to_datetime(df_autos['LastSeen'], format='%Y-%m-%d %H:%M:%S')"
   ]
  },
  {
   "cell_type": "markdown",
   "id": "b1a070e0-5d3d-42e2-b953-297caa95ee3a",
   "metadata": {},
   "source": [
    "## Создание нового датафрейма"
   ]
  },
  {
   "cell_type": "markdown",
   "id": "3ee8253c-22ce-4000-897c-61ebd06d325c",
   "metadata": {},
   "source": [
    "Создадим новый датафрейм `df_autos_filtered`, в который включим только те столбцы, которые действительно могут влиять на целевой признак `Price`: `VehicleType`, `Gearbox`, `Power`, `Model`, `Kilometer`,`FuelType`, `Brand`, `Repaired`. "
   ]
  },
  {
   "cell_type": "markdown",
   "id": "bee0783b-cf19-45b1-81a6-e3531c1da20a",
   "metadata": {},
   "source": [
    "Но сначала на основе признаков `RegistrationYear` и `RegistrationMonth` создадим новый целевой признак `CarAge`, который будет определять возраст автомобиля на момент публикации объявления."
   ]
  },
  {
   "cell_type": "code",
   "execution_count": 26,
   "id": "e7c985d1-9479-4960-aad9-41034f89589d",
   "metadata": {},
   "outputs": [
    {
     "data": {
      "image/png": "[encoded data removed]",
      "text/plain": [
       "<Figure size 1200x700 with 1 Axes>"
      ]
     },
     "metadata": {},
     "output_type": "display_data"
    }
   ],
   "source": [
    "df_autos.RegistrationMonth.hist(bins=50,figsize=(12,7))\n",
    "plt.title('График распределения RegistrationMonth')\n",
    "plt.xlabel('месяцы')\n",
    "plt.ylabel('количество, шт')\n",
    "plt.show()"
   ]
  },
  {
   "cell_type": "code",
   "execution_count": 27,
   "id": "3ef07656-188a-43c1-b3a6-a48eac67870f",
   "metadata": {},
   "outputs": [
    {
     "data": {
      "text/plain": [
       "37352"
      ]
     },
     "execution_count": 27,
     "metadata": {},
     "output_type": "execute_result"
    }
   ],
   "source": [
    "df_autos.query('RegistrationMonth==0')['RegistrationMonth'].count()"
   ]
  },
  {
   "cell_type": "markdown",
   "id": "f94c18da-03b5-4954-b34a-45fd9eb08aec",
   "metadata": {},
   "source": [
    "Мы не можем избавиться от такого значительного объёма данных. Заменим `0` на `1`, чтобы считать тогда дату регистрации просто по году."
   ]
  },
  {
   "cell_type": "code",
   "execution_count": 29,
   "id": "cbce3a14-afe6-4034-8607-369ac39a3162",
   "metadata": {},
   "outputs": [],
   "source": [
    "df_autos['RegistrationMonth'] = df_autos['RegistrationMonth'].replace(0, 1)"
   ]
  },
  {
   "cell_type": "markdown",
   "id": "d6d91b16-e75b-4ece-8e9c-abbb287e904b",
   "metadata": {},
   "source": [
    "Теперь посмотрим на признак RegistrationYear. В нём явно присутствуют выбросы."
   ]
  },
  {
   "cell_type": "code",
   "execution_count": 31,
   "id": "64def6f3-2935-4788-b7aa-62281e422092",
   "metadata": {},
   "outputs": [
    {
     "data": {
      "image/png": "[encoded data removed]",
      "text/plain": [
       "<Figure size 600x700 with 1 Axes>"
      ]
     },
     "metadata": {},
     "output_type": "display_data"
    }
   ],
   "source": [
    "plt.figure(figsize=(6, 7))\n",
    "sns.boxplot(data=df_autos['RegistrationYear'], palette=\"Set3\")\n",
    "sns.set_style(\"whitegrid\")\n",
    "plt.title(\"График распределения значений для признака RegistrationYear\")\n",
    "plt.xlabel(\"RegistrationYear\")\n",
    "plt.ylabel(\"стоимость, евро\")\n",
    "plt.show()"
   ]
  },
  {
   "cell_type": "markdown",
   "id": "edbfcb24-88e5-4d7d-b952-86533ba3e1ed",
   "metadata": {},
   "source": [
    "Посмотрим на первый перцентиль и отфильтруем данные по нему."
   ]
  },
  {
   "cell_type": "code",
   "execution_count": 33,
   "id": "a6eef83b-1561-4407-ad6f-56bb503927f2",
   "metadata": {},
   "outputs": [
    {
     "name": "stdout",
     "output_type": "stream",
     "text": [
      "Пороговое значение 1-го перцентиля: 1980.0\n",
      "Исходный размер данных: 354369\n",
      "Отфильтрованный размер: 350329\n",
      "Удалено строк: 4040\n"
     ]
    }
   ],
   "source": [
    "p1 = df_autos['RegistrationYear'].quantile(0.01)\n",
    "df_filtered = df_autos[df_autos['RegistrationYear'] > p1].copy()\n",
    "\n",
    "print(f\"Пороговое значение 1-го перцентиля: {p1}\")\n",
    "print(f\"Исходный размер данных: {len(df_autos)}\")\n",
    "print(f\"Отфильтрованный размер: {len(df_filtered)}\")\n",
    "print(f\"Удалено строк: {len(df_autos) - len(df_filtered)}\")"
   ]
  },
  {
   "cell_type": "code",
   "execution_count": 34,
   "id": "3745f321-cf2f-409a-bcb7-4b1645376726",
   "metadata": {},
   "outputs": [],
   "source": [
    "df_autos = df_autos.query('1980 <= RegistrationYear <= 2016')"
   ]
  },
  {
   "cell_type": "markdown",
   "id": "1e381e1b-d1a7-434a-988e-25f8aad35f6b",
   "metadata": {},
   "source": [
    "Посмотрим на данные после фильтрации."
   ]
  },
  {
   "cell_type": "code",
   "execution_count": 36,
   "id": "0bf9a92f-e7c0-415d-9a1b-90c31b1b3f5c",
   "metadata": {},
   "outputs": [
    {
     "data": {
      "image/png": "[encoded data removed]",
      "text/plain": [
       "<Figure size 600x700 with 1 Axes>"
      ]
     },
     "metadata": {},
     "output_type": "display_data"
    }
   ],
   "source": [
    "plt.figure(figsize=(6, 7))\n",
    "sns.boxplot(data=df_autos['RegistrationYear'], palette=\"Set3\")\n",
    "sns.set_style(\"whitegrid\")\n",
    "plt.title(\"График распределения значений для признака RegistrationYear\")\n",
    "plt.xlabel(\"RegistrationYear\")\n",
    "plt.ylabel(\"стоимость, евро\")\n",
    "plt.show()"
   ]
  },
  {
   "cell_type": "markdown",
   "id": "2ee47a25-44c4-4039-8a43-eaef6170f454",
   "metadata": {},
   "source": [
    "Теперь создадим признак `RegistrationDate`, который будет включать в себя признаки `RegistrationYear` и `RegistrationMonth`."
   ]
  },
  {
   "cell_type": "code",
   "execution_count": 38,
   "id": "26348711-9828-420f-b4cc-2d958dfbb175",
   "metadata": {},
   "outputs": [],
   "source": [
    "df_autos['RegistrationDate'] = pd.to_datetime(\n",
    "    df_autos['RegistrationYear'].astype(str) + '-' + \n",
    "    df_autos['RegistrationMonth'].astype(str) + '-01')"
   ]
  },
  {
   "cell_type": "markdown",
   "id": "966de88e-a919-4eb2-8fe8-4af68c04d0a2",
   "metadata": {},
   "source": [
    "Рассчитываем возраст в годах с точностью до месяца. Значение `365.25` поможет учитывать високосные годы. Столбец `RegistrationDate` можно в целом сразу удалить. Он нам не пригодится."
   ]
  },
  {
   "cell_type": "code",
   "execution_count": 40,
   "id": "530e2ddd-453e-4436-933e-9d65108ed2ca",
   "metadata": {},
   "outputs": [],
   "source": [
    "df_autos['CarAge'] = (\n",
    "    (df_autos['DateCreated'] - df_autos['RegistrationDate']) \n",
    "    / pd.Timedelta(days=365.25)  # 365.25 учитывает високосные годы\n",
    ").round(2)\n",
    "\n",
    "df_autos.drop('RegistrationDate', axis=1, inplace=True)"
   ]
  },
  {
   "cell_type": "markdown",
   "id": "250ea0ab-164b-4423-b9be-c24158fc3dd2",
   "metadata": {},
   "source": [
    "Создаём теперь на основе `df_autos` новый датафрейм, с которым и будем работать `df_autos_filtered`."
   ]
  },
  {
   "cell_type": "code",
   "execution_count": 42,
   "id": "06d41a40-7802-4569-89c0-86db21af35d6",
   "metadata": {},
   "outputs": [],
   "source": [
    "df_autos_filtered = df_autos[['VehicleType', 'Gearbox', 'Power', 'Model',\n",
    "                   'Kilometer', 'FuelType', 'Brand', 'Repaired', 'CarAge', 'Price']].copy()"
   ]
  },
  {
   "cell_type": "code",
   "execution_count": 43,
   "id": "4945616d-9dd6-4606-8d52-53c2a50bd5b3",
   "metadata": {},
   "outputs": [
    {
     "data": {
      "text/html": [
       "<div>\n",
       "<style scoped>\n",
       "    .dataframe tbody tr th:only-of-type {\n",
       "        vertical-align: middle;\n",
       "    }\n",
       "\n",
       "    .dataframe tbody tr th {\n",
       "        vertical-align: top;\n",
       "    }\n",
       "\n",
       "    .dataframe thead th {\n",
       "        text-align: right;\n",
       "    }\n",
       "</style>\n",
       "<table border=\"1\" class=\"dataframe\">\n",
       "  <thead>\n",
       "    <tr style=\"text-align: right;\">\n",
       "      <th></th>\n",
       "      <th>VehicleType</th>\n",
       "      <th>Gearbox</th>\n",
       "      <th>Power</th>\n",
       "      <th>Model</th>\n",
       "      <th>Kilometer</th>\n",
       "      <th>FuelType</th>\n",
       "      <th>Brand</th>\n",
       "      <th>Repaired</th>\n",
       "      <th>CarAge</th>\n",
       "      <th>Price</th>\n",
       "    </tr>\n",
       "  </thead>\n",
       "  <tbody>\n",
       "    <tr>\n",
       "      <th>0</th>\n",
       "      <td>NaN</td>\n",
       "      <td>manual</td>\n",
       "      <td>0</td>\n",
       "      <td>golf</td>\n",
       "      <td>150000</td>\n",
       "      <td>petrol</td>\n",
       "      <td>volkswagen</td>\n",
       "      <td>NaN</td>\n",
       "      <td>23.23</td>\n",
       "      <td>480</td>\n",
       "    </tr>\n",
       "    <tr>\n",
       "      <th>1</th>\n",
       "      <td>coupe</td>\n",
       "      <td>manual</td>\n",
       "      <td>190</td>\n",
       "      <td>NaN</td>\n",
       "      <td>125000</td>\n",
       "      <td>gasoline</td>\n",
       "      <td>audi</td>\n",
       "      <td>yes</td>\n",
       "      <td>4.90</td>\n",
       "      <td>18300</td>\n",
       "    </tr>\n",
       "    <tr>\n",
       "      <th>2</th>\n",
       "      <td>suv</td>\n",
       "      <td>auto</td>\n",
       "      <td>163</td>\n",
       "      <td>grand</td>\n",
       "      <td>125000</td>\n",
       "      <td>gasoline</td>\n",
       "      <td>jeep</td>\n",
       "      <td>NaN</td>\n",
       "      <td>11.62</td>\n",
       "      <td>9800</td>\n",
       "    </tr>\n",
       "    <tr>\n",
       "      <th>3</th>\n",
       "      <td>small</td>\n",
       "      <td>manual</td>\n",
       "      <td>75</td>\n",
       "      <td>golf</td>\n",
       "      <td>150000</td>\n",
       "      <td>petrol</td>\n",
       "      <td>volkswagen</td>\n",
       "      <td>no</td>\n",
       "      <td>14.79</td>\n",
       "      <td>1500</td>\n",
       "    </tr>\n",
       "    <tr>\n",
       "      <th>4</th>\n",
       "      <td>small</td>\n",
       "      <td>manual</td>\n",
       "      <td>69</td>\n",
       "      <td>fabia</td>\n",
       "      <td>90000</td>\n",
       "      <td>gasoline</td>\n",
       "      <td>skoda</td>\n",
       "      <td>no</td>\n",
       "      <td>7.75</td>\n",
       "      <td>3600</td>\n",
       "    </tr>\n",
       "  </tbody>\n",
       "</table>\n",
       "</div>"
      ],
      "text/plain": [
       "  VehicleType Gearbox  Power  Model  Kilometer  FuelType       Brand Repaired  \\\n",
       "0         NaN  manual      0   golf     150000    petrol  volkswagen      NaN   \n",
       "1       coupe  manual    190    NaN     125000  gasoline        audi      yes   \n",
       "2         suv    auto    163  grand     125000  gasoline        jeep      NaN   \n",
       "3       small  manual     75   golf     150000    petrol  volkswagen       no   \n",
       "4       small  manual     69  fabia      90000  gasoline       skoda       no   \n",
       "\n",
       "   CarAge  Price  \n",
       "0   23.23    480  \n",
       "1    4.90  18300  \n",
       "2   11.62   9800  \n",
       "3   14.79   1500  \n",
       "4    7.75   3600  "
      ]
     },
     "metadata": {},
     "output_type": "display_data"
    },
    {
     "name": "stdout",
     "output_type": "stream",
     "text": [
      "<class 'pandas.core.frame.DataFrame'>\n",
      "Index: 336387 entries, 0 to 354368\n",
      "Data columns (total 10 columns):\n",
      " #   Column       Non-Null Count   Dtype  \n",
      "---  ------       --------------   -----  \n",
      " 0   VehicleType  313846 non-null  object \n",
      " 1   Gearbox      319177 non-null  object \n",
      " 2   Power        336387 non-null  int64  \n",
      " 3   Model        319605 non-null  object \n",
      " 4   Kilometer    336387 non-null  int64  \n",
      " 5   FuelType     309831 non-null  object \n",
      " 6   Brand        336387 non-null  object \n",
      " 7   Repaired     272680 non-null  object \n",
      " 8   CarAge       336387 non-null  float64\n",
      " 9   Price        336387 non-null  int64  \n",
      "dtypes: float64(1), int64(3), object(6)\n",
      "memory usage: 28.2+ MB\n"
     ]
    },
    {
     "data": {
      "text/html": [
       "<div>\n",
       "<style scoped>\n",
       "    .dataframe tbody tr th:only-of-type {\n",
       "        vertical-align: middle;\n",
       "    }\n",
       "\n",
       "    .dataframe tbody tr th {\n",
       "        vertical-align: top;\n",
       "    }\n",
       "\n",
       "    .dataframe thead th {\n",
       "        text-align: right;\n",
       "    }\n",
       "</style>\n",
       "<table border=\"1\" class=\"dataframe\">\n",
       "  <thead>\n",
       "    <tr style=\"text-align: right;\">\n",
       "      <th></th>\n",
       "      <th>Power</th>\n",
       "      <th>Kilometer</th>\n",
       "      <th>CarAge</th>\n",
       "      <th>Price</th>\n",
       "    </tr>\n",
       "  </thead>\n",
       "  <tbody>\n",
       "    <tr>\n",
       "      <th>count</th>\n",
       "      <td>336387.000000</td>\n",
       "      <td>336387.000000</td>\n",
       "      <td>336387.000000</td>\n",
       "      <td>336387.000000</td>\n",
       "    </tr>\n",
       "    <tr>\n",
       "      <th>mean</th>\n",
       "      <td>111.366973</td>\n",
       "      <td>128513.839714</td>\n",
       "      <td>12.984741</td>\n",
       "      <td>4447.274794</td>\n",
       "    </tr>\n",
       "    <tr>\n",
       "      <th>std</th>\n",
       "      <td>185.510237</td>\n",
       "      <td>37473.848050</td>\n",
       "      <td>6.106270</td>\n",
       "      <td>4526.680863</td>\n",
       "    </tr>\n",
       "    <tr>\n",
       "      <th>min</th>\n",
       "      <td>0.000000</td>\n",
       "      <td>5000.000000</td>\n",
       "      <td>-0.740000</td>\n",
       "      <td>0.000000</td>\n",
       "    </tr>\n",
       "    <tr>\n",
       "      <th>25%</th>\n",
       "      <td>70.000000</td>\n",
       "      <td>125000.000000</td>\n",
       "      <td>8.780000</td>\n",
       "      <td>1099.000000</td>\n",
       "    </tr>\n",
       "    <tr>\n",
       "      <th>50%</th>\n",
       "      <td>105.000000</td>\n",
       "      <td>150000.000000</td>\n",
       "      <td>13.030000</td>\n",
       "      <td>2750.000000</td>\n",
       "    </tr>\n",
       "    <tr>\n",
       "      <th>75%</th>\n",
       "      <td>143.000000</td>\n",
       "      <td>150000.000000</td>\n",
       "      <td>16.990000</td>\n",
       "      <td>6499.000000</td>\n",
       "    </tr>\n",
       "    <tr>\n",
       "      <th>max</th>\n",
       "      <td>20000.000000</td>\n",
       "      <td>150000.000000</td>\n",
       "      <td>36.260000</td>\n",
       "      <td>20000.000000</td>\n",
       "    </tr>\n",
       "  </tbody>\n",
       "</table>\n",
       "</div>"
      ],
      "text/plain": [
       "               Power      Kilometer         CarAge          Price\n",
       "count  336387.000000  336387.000000  336387.000000  336387.000000\n",
       "mean      111.366973  128513.839714      12.984741    4447.274794\n",
       "std       185.510237   37473.848050       6.106270    4526.680863\n",
       "min         0.000000    5000.000000      -0.740000       0.000000\n",
       "25%        70.000000  125000.000000       8.780000    1099.000000\n",
       "50%       105.000000  150000.000000      13.030000    2750.000000\n",
       "75%       143.000000  150000.000000      16.990000    6499.000000\n",
       "max     20000.000000  150000.000000      36.260000   20000.000000"
      ]
     },
     "metadata": {},
     "output_type": "display_data"
    }
   ],
   "source": [
    "df_review(df_autos_filtered)"
   ]
  },
  {
   "cell_type": "code",
   "execution_count": 44,
   "id": "a71c9e26-cc0c-4c50-b636-8e23712286b6",
   "metadata": {},
   "outputs": [
    {
     "data": {
      "text/html": [
       "<div>\n",
       "<style scoped>\n",
       "    .dataframe tbody tr th:only-of-type {\n",
       "        vertical-align: middle;\n",
       "    }\n",
       "\n",
       "    .dataframe tbody tr th {\n",
       "        vertical-align: top;\n",
       "    }\n",
       "\n",
       "    .dataframe thead th {\n",
       "        text-align: right;\n",
       "    }\n",
       "</style>\n",
       "<table border=\"1\" class=\"dataframe\">\n",
       "  <thead>\n",
       "    <tr style=\"text-align: right;\">\n",
       "      <th></th>\n",
       "      <th>VehicleType</th>\n",
       "      <th>Gearbox</th>\n",
       "      <th>Power</th>\n",
       "      <th>Model</th>\n",
       "      <th>Kilometer</th>\n",
       "      <th>FuelType</th>\n",
       "      <th>Brand</th>\n",
       "      <th>Repaired</th>\n",
       "      <th>CarAge</th>\n",
       "      <th>Price</th>\n",
       "    </tr>\n",
       "  </thead>\n",
       "  <tbody>\n",
       "    <tr>\n",
       "      <th>257002</th>\n",
       "      <td>NaN</td>\n",
       "      <td>manual</td>\n",
       "      <td>86</td>\n",
       "      <td>lanos</td>\n",
       "      <td>150000</td>\n",
       "      <td>petrol</td>\n",
       "      <td>daewoo</td>\n",
       "      <td>NaN</td>\n",
       "      <td>-0.74</td>\n",
       "      <td>400</td>\n",
       "    </tr>\n",
       "    <tr>\n",
       "      <th>16416</th>\n",
       "      <td>NaN</td>\n",
       "      <td>manual</td>\n",
       "      <td>60</td>\n",
       "      <td>polo</td>\n",
       "      <td>150000</td>\n",
       "      <td>petrol</td>\n",
       "      <td>volkswagen</td>\n",
       "      <td>NaN</td>\n",
       "      <td>-0.74</td>\n",
       "      <td>1000</td>\n",
       "    </tr>\n",
       "    <tr>\n",
       "      <th>139775</th>\n",
       "      <td>NaN</td>\n",
       "      <td>manual</td>\n",
       "      <td>0</td>\n",
       "      <td>passat</td>\n",
       "      <td>150000</td>\n",
       "      <td>NaN</td>\n",
       "      <td>volkswagen</td>\n",
       "      <td>no</td>\n",
       "      <td>-0.74</td>\n",
       "      <td>1000</td>\n",
       "    </tr>\n",
       "    <tr>\n",
       "      <th>180098</th>\n",
       "      <td>NaN</td>\n",
       "      <td>auto</td>\n",
       "      <td>170</td>\n",
       "      <td>mondeo</td>\n",
       "      <td>150000</td>\n",
       "      <td>NaN</td>\n",
       "      <td>ford</td>\n",
       "      <td>NaN</td>\n",
       "      <td>-0.74</td>\n",
       "      <td>800</td>\n",
       "    </tr>\n",
       "    <tr>\n",
       "      <th>167024</th>\n",
       "      <td>NaN</td>\n",
       "      <td>manual</td>\n",
       "      <td>140</td>\n",
       "      <td>golf</td>\n",
       "      <td>150000</td>\n",
       "      <td>gasoline</td>\n",
       "      <td>volkswagen</td>\n",
       "      <td>yes</td>\n",
       "      <td>-0.74</td>\n",
       "      <td>4499</td>\n",
       "    </tr>\n",
       "    <tr>\n",
       "      <th>...</th>\n",
       "      <td>...</td>\n",
       "      <td>...</td>\n",
       "      <td>...</td>\n",
       "      <td>...</td>\n",
       "      <td>...</td>\n",
       "      <td>...</td>\n",
       "      <td>...</td>\n",
       "      <td>...</td>\n",
       "      <td>...</td>\n",
       "      <td>...</td>\n",
       "    </tr>\n",
       "    <tr>\n",
       "      <th>292575</th>\n",
       "      <td>NaN</td>\n",
       "      <td>NaN</td>\n",
       "      <td>0</td>\n",
       "      <td>c_klasse</td>\n",
       "      <td>150000</td>\n",
       "      <td>NaN</td>\n",
       "      <td>mercedes_benz</td>\n",
       "      <td>NaN</td>\n",
       "      <td>36.26</td>\n",
       "      <td>15500</td>\n",
       "    </tr>\n",
       "    <tr>\n",
       "      <th>49875</th>\n",
       "      <td>NaN</td>\n",
       "      <td>manual</td>\n",
       "      <td>75</td>\n",
       "      <td>other</td>\n",
       "      <td>60000</td>\n",
       "      <td>petrol</td>\n",
       "      <td>volkswagen</td>\n",
       "      <td>NaN</td>\n",
       "      <td>36.26</td>\n",
       "      <td>5500</td>\n",
       "    </tr>\n",
       "    <tr>\n",
       "      <th>310601</th>\n",
       "      <td>NaN</td>\n",
       "      <td>NaN</td>\n",
       "      <td>0</td>\n",
       "      <td>other</td>\n",
       "      <td>150000</td>\n",
       "      <td>NaN</td>\n",
       "      <td>bmw</td>\n",
       "      <td>NaN</td>\n",
       "      <td>36.26</td>\n",
       "      <td>6400</td>\n",
       "    </tr>\n",
       "    <tr>\n",
       "      <th>269854</th>\n",
       "      <td>NaN</td>\n",
       "      <td>manual</td>\n",
       "      <td>22</td>\n",
       "      <td>500</td>\n",
       "      <td>90000</td>\n",
       "      <td>petrol</td>\n",
       "      <td>fiat</td>\n",
       "      <td>NaN</td>\n",
       "      <td>36.26</td>\n",
       "      <td>9350</td>\n",
       "    </tr>\n",
       "    <tr>\n",
       "      <th>106290</th>\n",
       "      <td>NaN</td>\n",
       "      <td>NaN</td>\n",
       "      <td>0</td>\n",
       "      <td>NaN</td>\n",
       "      <td>100000</td>\n",
       "      <td>NaN</td>\n",
       "      <td>sonstige_autos</td>\n",
       "      <td>NaN</td>\n",
       "      <td>36.26</td>\n",
       "      <td>0</td>\n",
       "    </tr>\n",
       "  </tbody>\n",
       "</table>\n",
       "<p>336387 rows × 10 columns</p>\n",
       "</div>"
      ],
      "text/plain": [
       "       VehicleType Gearbox  Power     Model  Kilometer  FuelType  \\\n",
       "257002         NaN  manual     86     lanos     150000    petrol   \n",
       "16416          NaN  manual     60      polo     150000    petrol   \n",
       "139775         NaN  manual      0    passat     150000       NaN   \n",
       "180098         NaN    auto    170    mondeo     150000       NaN   \n",
       "167024         NaN  manual    140      golf     150000  gasoline   \n",
       "...            ...     ...    ...       ...        ...       ...   \n",
       "292575         NaN     NaN      0  c_klasse     150000       NaN   \n",
       "49875          NaN  manual     75     other      60000    petrol   \n",
       "310601         NaN     NaN      0     other     150000       NaN   \n",
       "269854         NaN  manual     22       500      90000    petrol   \n",
       "106290         NaN     NaN      0       NaN     100000       NaN   \n",
       "\n",
       "                 Brand Repaired  CarAge  Price  \n",
       "257002          daewoo      NaN   -0.74    400  \n",
       "16416       volkswagen      NaN   -0.74   1000  \n",
       "139775      volkswagen       no   -0.74   1000  \n",
       "180098            ford      NaN   -0.74    800  \n",
       "167024      volkswagen      yes   -0.74   4499  \n",
       "...                ...      ...     ...    ...  \n",
       "292575   mercedes_benz      NaN   36.26  15500  \n",
       "49875       volkswagen      NaN   36.26   5500  \n",
       "310601             bmw      NaN   36.26   6400  \n",
       "269854            fiat      NaN   36.26   9350  \n",
       "106290  sonstige_autos      NaN   36.26      0  \n",
       "\n",
       "[336387 rows x 10 columns]"
      ]
     },
     "execution_count": 44,
     "metadata": {},
     "output_type": "execute_result"
    }
   ],
   "source": [
    "df_autos_filtered = df_autos_filtered.sort_values('CarAge', ascending=True)\n",
    "df_autos_filtered"
   ]
  },
  {
   "cell_type": "markdown",
   "id": "1569cf9f-c2c8-4ea1-a4d9-63717a1c4cff",
   "metadata": {},
   "source": [
    "## Предобработка данных"
   ]
  },
  {
   "cell_type": "markdown",
   "id": "4e3c91e1-f6cf-48d1-aceb-80cee454f36a",
   "metadata": {},
   "source": [
    "### Работа с пропущенными значениями"
   ]
  },
  {
   "cell_type": "code",
   "execution_count": 47,
   "id": "c0c72013-2280-4a09-a46c-cae9f812a1f9",
   "metadata": {},
   "outputs": [
    {
     "data": {
      "text/plain": [
       "VehicleType    22541\n",
       "Gearbox        17210\n",
       "Power              0\n",
       "Model          16782\n",
       "Kilometer          0\n",
       "FuelType       26556\n",
       "Brand              0\n",
       "Repaired       63707\n",
       "CarAge             0\n",
       "Price              0\n",
       "dtype: int64"
      ]
     },
     "execution_count": 47,
     "metadata": {},
     "output_type": "execute_result"
    }
   ],
   "source": [
    "df_autos_filtered.isna().sum()"
   ]
  },
  {
   "cell_type": "markdown",
   "id": "ded09429-7b4e-422e-b44d-9b872d891385",
   "metadata": {},
   "source": [
    "### VehicleType"
   ]
  },
  {
   "cell_type": "markdown",
   "id": "cc0abfda-7ba3-4b67-9eba-1a37142bf4cf",
   "metadata": {},
   "source": [
    "Заполним пропуски `N/A`."
   ]
  },
  {
   "cell_type": "code",
   "execution_count": 50,
   "id": "9286be96-54f1-4bba-88af-db3c039e1f11",
   "metadata": {},
   "outputs": [],
   "source": [
    "df_autos_filtered['VehicleType']=df_autos_filtered['VehicleType'].fillna('N/A')"
   ]
  },
  {
   "cell_type": "markdown",
   "id": "bd563235-530b-40a8-90d9-078c07f00f5d",
   "metadata": {},
   "source": [
    "### Model"
   ]
  },
  {
   "cell_type": "markdown",
   "id": "163c3747-c401-4c7f-9f1b-85206bbd077f",
   "metadata": {},
   "source": [
    "Заполним пропуски `other`."
   ]
  },
  {
   "cell_type": "code",
   "execution_count": 53,
   "id": "63ead620-a21c-42a9-a904-0614bf4b40d9",
   "metadata": {},
   "outputs": [],
   "source": [
    "df_autos_filtered['Model']=df_autos_filtered['Model'].fillna('other')"
   ]
  },
  {
   "cell_type": "markdown",
   "id": "8300efc4-9f73-4717-8cab-0ef44cd0a795",
   "metadata": {},
   "source": [
    "### FuelType"
   ]
  },
  {
   "cell_type": "markdown",
   "id": "e620bb59-7ef9-466f-8bcd-e03c22adafdd",
   "metadata": {},
   "source": [
    "Petrol и gasoline - это один и тот же тип топлива, замени его везде на gasoline."
   ]
  },
  {
   "cell_type": "code",
   "execution_count": 56,
   "id": "81f6497b-c8e4-4455-bd86-2be422f0b6c9",
   "metadata": {},
   "outputs": [],
   "source": [
    "df_autos_filtered.loc[df_autos_filtered['FuelType'] == 'petrol', 'FuelType'] = 'gasoline'"
   ]
  },
  {
   "cell_type": "code",
   "execution_count": 57,
   "id": "fc6b4ab4-5e5e-428a-9035-56ea40bc001f",
   "metadata": {},
   "outputs": [
    {
     "data": {
      "text/plain": [
       "26556"
      ]
     },
     "execution_count": 57,
     "metadata": {},
     "output_type": "execute_result"
    }
   ],
   "source": [
    "df_autos_filtered['FuelType'].isna().sum()"
   ]
  },
  {
   "cell_type": "code",
   "execution_count": 58,
   "id": "c0c6a28c-fd5b-411a-81aa-ce94db731f0b",
   "metadata": {
    "scrolled": true
   },
   "outputs": [
    {
     "data": {
      "text/plain": [
       "FuelType\n",
       "gasoline    303677\n",
       "lpg           5137\n",
       "cng            539\n",
       "hybrid         223\n",
       "other          167\n",
       "electric        88\n",
       "Name: count, dtype: int64"
      ]
     },
     "execution_count": 58,
     "metadata": {},
     "output_type": "execute_result"
    }
   ],
   "source": [
    "df_autos_filtered.FuelType.value_counts()"
   ]
  },
  {
   "cell_type": "markdown",
   "id": "6972881a-dc43-4340-a588-9a321f7373ee",
   "metadata": {},
   "source": [
    "Заполним пропуски `other`."
   ]
  },
  {
   "cell_type": "code",
   "execution_count": 60,
   "id": "5dd0ee9f-00de-4cd1-a380-e3bf4ca96fa2",
   "metadata": {},
   "outputs": [],
   "source": [
    "df_autos_filtered['FuelType']=df_autos_filtered['FuelType'].fillna('other')"
   ]
  },
  {
   "cell_type": "markdown",
   "id": "f9ffc5c8-5a1d-4f0c-bf81-7ef6fec0c599",
   "metadata": {},
   "source": [
    "### Gearbox\n"
   ]
  },
  {
   "cell_type": "markdown",
   "id": "bb252bff-5543-41d5-9aa2-c423d636c33e",
   "metadata": {},
   "source": [
    "Заполним пропуски `unknown`."
   ]
  },
  {
   "cell_type": "code",
   "execution_count": 63,
   "id": "d959046b-8562-40e5-85a8-004adc6c0620",
   "metadata": {},
   "outputs": [],
   "source": [
    "df_autos_filtered['Gearbox']=df_autos_filtered['Gearbox'].fillna('unknown')"
   ]
  },
  {
   "cell_type": "markdown",
   "id": "19763cb8-fe16-4883-919a-a491d5980ac0",
   "metadata": {},
   "source": [
    "### Repaired\n"
   ]
  },
  {
   "cell_type": "markdown",
   "id": "d6fde2dd-4fc3-4d91-8736-fb8a409d6320",
   "metadata": {},
   "source": [
    "Также заполним пропуски `unknown`."
   ]
  },
  {
   "cell_type": "code",
   "execution_count": 66,
   "id": "e2cc616f-5d3f-4ccc-8b99-5b759d306492",
   "metadata": {},
   "outputs": [],
   "source": [
    "df_autos_filtered['Repaired']=df_autos_filtered['Repaired'].fillna('unknown')"
   ]
  },
  {
   "cell_type": "markdown",
   "id": "8286dbb2-5b52-4f56-a94c-9415afef9bcf",
   "metadata": {},
   "source": [
    "### Числовые значения"
   ]
  },
  {
   "cell_type": "markdown",
   "id": "2b166739-5e76-4e15-bc14-c7442d39a860",
   "metadata": {},
   "source": [
    "Построим гистограммы и боксплоты для числовых признаков датафрейма."
   ]
  },
  {
   "cell_type": "code",
   "execution_count": 69,
   "id": "fd3c8f81-dc82-48a2-8cbd-7ac4bf6f2da5",
   "metadata": {},
   "outputs": [
    {
     "data": {
      "image/png": "[encoded data removed]",
      "text/plain": [
       "<Figure size 1500x1000 with 4 Axes>"
      ]
     },
     "metadata": {},
     "output_type": "display_data"
    }
   ],
   "source": [
    "fig, axes = plt.subplots(nrows=2, ncols=2, figsize=(15, 10))\n",
    "col_hist = ['Power', 'Kilometer', 'CarAge', 'Price']\n",
    "for i, col in enumerate(col_hist):\n",
    "    row = i // 2\n",
    "    col_pos = i % 2\n",
    "    sns.histplot(df_autos_filtered[col], ax=axes[row, col_pos])\n",
    "    axes[row, col_pos].set_title(f'Гистограмма для признака {col}')\n",
    "    axes[row, col_pos].set_xlabel(col)  \n",
    "\n",
    "plt.tight_layout()\n",
    "plt.show()"
   ]
  },
  {
   "cell_type": "code",
   "execution_count": 70,
   "id": "642eb9b5-72c5-4fc7-a3ac-a37bd764c369",
   "metadata": {},
   "outputs": [
    {
     "data": {
      "image/png": "[encoded data removed]",
      "text/plain": [
       "<Figure size 1500x1000 with 4 Axes>"
      ]
     },
     "metadata": {},
     "output_type": "display_data"
    }
   ],
   "source": [
    "fig, axes = plt.subplots(nrows=2, ncols=2, figsize=(15, 10))\n",
    "\n",
    "col_box = ['Power', 'Kilometer', 'CarAge', 'Price']\n",
    "\n",
    "for i, col in enumerate(col_box):\n",
    "    row = i // 2\n",
    "    col_pos = i % 2\n",
    "    \n",
    "    sns.boxplot(data=df_autos_filtered, y=col, ax=axes[row, col_pos], \n",
    "                color='skyblue', showmeans=True,\n",
    "                meanprops={\"marker\":\"o\", \"markerfacecolor\":\"red\", \"markeredgecolor\":\"black\"})\n",
    "    \n",
    "    axes[row, col_pos].set_title(f'Боксплот для признака {col}')\n",
    "    axes[row, col_pos].set_ylabel(col)  \n",
    "\n",
    "plt.tight_layout()\n",
    "plt.show()"
   ]
  },
  {
   "cell_type": "markdown",
   "id": "7b201ce6-5ee3-4c36-b6a3-f6a8821318d4",
   "metadata": {},
   "source": [
    "### Power\n"
   ]
  },
  {
   "cell_type": "markdown",
   "id": "58459241-1aa8-4117-b060-4a63ac16f932",
   "metadata": {},
   "source": [
    "Здесь наблюдаются явные выбросы. Поставим ограничения на минимальную мощность двигателя в 45 и на максимальную в 2028, так как согласно источникам, эти цифры являются самыми адекватными для нашей базы данных."
   ]
  },
  {
   "cell_type": "code",
   "execution_count": 73,
   "id": "fabaf22b-5390-488e-82d8-508a525831d6",
   "metadata": {},
   "outputs": [],
   "source": [
    "df_autos_filtered = df_autos_filtered.query('45 <= Power <= 500')"
   ]
  },
  {
   "cell_type": "markdown",
   "id": "d0888289-6e6e-45b4-9c3f-b053b3b64a0e",
   "metadata": {},
   "source": [
    "### CarAge"
   ]
  },
  {
   "cell_type": "markdown",
   "id": "a78a4708-154d-424a-b368-92438a2150c3",
   "metadata": {},
   "source": [
    "На графике видно, что у нас есть строки, в которых возраст автомобиля является отрицательным числом. Поставим ограничение на этот признак, чтобы число принимало только положительное значение."
   ]
  },
  {
   "cell_type": "code",
   "execution_count": 76,
   "id": "f9a62662-bdf2-4e4a-88df-931e77b3c9fc",
   "metadata": {},
   "outputs": [],
   "source": [
    "df_autos_filtered = df_autos_filtered.query('CarAge>=0')"
   ]
  },
  {
   "cell_type": "markdown",
   "id": "0db48ef7-6372-4909-813f-c4a91c59b8f4",
   "metadata": {},
   "source": [
    "### Price"
   ]
  },
  {
   "cell_type": "markdown",
   "id": "5edda57a-fc4a-4079-9757-ce4e25c317f6",
   "metadata": {},
   "source": [
    "Вычислим 5-й перцентиль и поставим порог цены по нему."
   ]
  },
  {
   "cell_type": "code",
   "execution_count": 79,
   "id": "ddbf87b9-6ebf-40a9-97b8-255375d295d1",
   "metadata": {},
   "outputs": [
    {
     "data": {
      "text/plain": [
       "300.0"
      ]
     },
     "execution_count": 79,
     "metadata": {},
     "output_type": "execute_result"
    }
   ],
   "source": [
    "df_autos_filtered.Price.quantile(0.05)"
   ]
  },
  {
   "cell_type": "code",
   "execution_count": 80,
   "id": "f9806d6f-6589-4701-95d6-3cb5b994e815",
   "metadata": {},
   "outputs": [],
   "source": [
    "df_autos_filtered = df_autos_filtered.query('Price>=300')"
   ]
  },
  {
   "cell_type": "markdown",
   "id": "88177aa0-1010-46da-b117-23e3f51f8010",
   "metadata": {},
   "source": [
    "### Kilometer\n"
   ]
  },
  {
   "cell_type": "code",
   "execution_count": 82,
   "id": "b55ccc4a-2de4-470b-9b07-f3b83160d540",
   "metadata": {},
   "outputs": [
    {
     "data": {
      "text/plain": [
       "array([  5000,  10000,  20000,  30000,  40000,  50000,  60000,  70000,\n",
       "        80000,  90000, 100000, 125000, 150000])"
      ]
     },
     "execution_count": 82,
     "metadata": {},
     "output_type": "execute_result"
    }
   ],
   "source": [
    "df_autos_filtered.Kilometer.sort_values().unique()"
   ]
  },
  {
   "cell_type": "markdown",
   "id": "1caa2f15-a580-42d0-adcd-5dde2be05cc4",
   "metadata": {},
   "source": [
    "Признак явно категориальный."
   ]
  },
  {
   "cell_type": "markdown",
   "id": "d2ec1bfd-3ccf-4b26-b7f1-8b176c6740cd",
   "metadata": {},
   "source": [
    "Добавим на основе признака `Kilometer` новый признак `MileageCat` со следующими значениями:\n",
    "\n",
    "`low (5k–40k км):`\n",
    "- машины после обкатки, почти без износа;\n",
    "- цена обычно близка к новой.\n",
    "\n",
    "`middle (50k–100k км):`\n",
    "- оптимальный вариант для покупки (баланс цены и состояния).\n",
    "\n",
    "`high (125k–150k км):`\n",
    "- требуют проверки на серьезные поломки;\n",
    "- цена в теории должна быть ниже."
   ]
  },
  {
   "cell_type": "code",
   "execution_count": 85,
   "id": "61e58625-99ad-4beb-8d9a-9c0a853a3801",
   "metadata": {},
   "outputs": [
    {
     "name": "stdout",
     "output_type": "stream",
     "text": [
      "MileageCat\n",
      "high      228961\n",
      "middle     42416\n",
      "low         9858\n",
      "Name: count, dtype: int64\n"
     ]
    }
   ],
   "source": [
    "bins = [0, 40_000, 100_000, np.inf]\n",
    "labels = ['low', 'middle', 'high']\n",
    "df_autos_filtered['MileageCat'] = pd.cut(\n",
    "    df_autos_filtered['Kilometer'],\n",
    "    bins=bins,\n",
    "    labels=labels,\n",
    "    right=False\n",
    ")\n",
    "\n",
    "print(df_autos_filtered['MileageCat'].value_counts())"
   ]
  },
  {
   "cell_type": "markdown",
   "id": "fe103ba1-8cd7-4a06-9d9f-384af4246ae4",
   "metadata": {},
   "source": [
    "### Работа с дубликатами"
   ]
  },
  {
   "cell_type": "markdown",
   "id": "834df83e-4f99-4f98-bc7e-e0bca4632fa5",
   "metadata": {},
   "source": [
    "#### Явные дубликаты"
   ]
  },
  {
   "cell_type": "code",
   "execution_count": 88,
   "id": "9de3d816-ad49-4624-aced-3e566a4b5263",
   "metadata": {},
   "outputs": [
    {
     "name": "stdout",
     "output_type": "stream",
     "text": [
      "Количество явных дубликатов: 13334\n"
     ]
    }
   ],
   "source": [
    "print(f'Количество явных дубликатов: {df_autos_filtered.duplicated().sum()}')"
   ]
  },
  {
   "cell_type": "code",
   "execution_count": 89,
   "id": "46074de9-0b52-4d6d-b35e-d658f43d576b",
   "metadata": {},
   "outputs": [
    {
     "name": "stdout",
     "output_type": "stream",
     "text": [
      "Количество явных дубликатов после удаления: 0\n"
     ]
    }
   ],
   "source": [
    "df_autos_filtered = df_autos_filtered.drop_duplicates()\n",
    "print(f'Количество явных дубликатов после удаления: {df_autos_filtered.duplicated().sum()}')"
   ]
  },
  {
   "cell_type": "markdown",
   "id": "8741f44e-adf1-400e-be48-ccb61dfc44c2",
   "metadata": {},
   "source": [
    "#### Неявные дубликаты"
   ]
  },
  {
   "cell_type": "code",
   "execution_count": 91,
   "id": "cf1176dd-7bb8-43d1-bf10-9c9cabffd540",
   "metadata": {},
   "outputs": [
    {
     "name": "stdout",
     "output_type": "stream",
     "text": [
      "VehicleType :\n"
     ]
    },
    {
     "data": {
      "text/plain": [
       "array(['N/A', 'wagon', 'sedan', 'small', 'coupe', 'suv', 'bus',\n",
       "       'convertible', 'other'], dtype=object)"
      ]
     },
     "metadata": {},
     "output_type": "display_data"
    },
    {
     "name": "stdout",
     "output_type": "stream",
     "text": [
      "Gearbox :\n"
     ]
    },
    {
     "data": {
      "text/plain": [
       "array(['manual', 'auto', 'unknown'], dtype=object)"
      ]
     },
     "metadata": {},
     "output_type": "display_data"
    },
    {
     "name": "stdout",
     "output_type": "stream",
     "text": [
      "Model :\n"
     ]
    },
    {
     "data": {
      "text/plain": [
       "array(['twingo', 'a3', 'other', 'a6', 'megane', 'xc_reihe', '3_reihe',\n",
       "       'golf', 'sharan', 'vectra', 'polo', 'a_klasse', 'corolla', 'ka',\n",
       "       'punto', 'arosa', 'corsa', '3er', 'fortwo', 'micra', '5er',\n",
       "       'scenic', 'i_reihe', '1_reihe', 'ducato', 'yaris', 'ibiza',\n",
       "       'focus', 'cr_reihe', 'astra', 'agila', 'cooper', 'a4', 'vito',\n",
       "       'alhambra', 'x_reihe', 'almera', 'passat', 'toledo', 'meriva',\n",
       "       'omega', 'leon', 'transporter', 'fiesta', 'calibra', 'scirocco',\n",
       "       'insignia', 'c_klasse', 'kaefer', 'civic', 'beetle', 'b_klasse',\n",
       "       'a1', 'rio', 'clio', 'roadster', 'panda', 'caddy', 'transit',\n",
       "       '900', '500', '147', 'v40', 'c1', 'galaxy', 'ceed', '1er', 'jetta',\n",
       "       'swift', 'qashqai', 'a2', 'kangoo', 'clubman', 'fabia', 'mondeo',\n",
       "       'impreza', 'kadett', 'modus', 'e_klasse', 'fusion', 'cuore', '7er',\n",
       "       '6_reihe', 'carnival', 'lupo', 'combo', 'touran', '2_reihe',\n",
       "       'ypsilon', 'bravo', 'c_reihe', 'espace', 'santa', 's_max', 'up',\n",
       "       '80', 'citigo', 'cl', 'colt', 'escort', 'laguna', 'tigra',\n",
       "       'tucson', '4_reihe', 'rav', 'getz', 'cc', 'a5', 'tt', 'signum',\n",
       "       'a8', 'sandero', 'c2', '100', 'c_max', 'aygo', 'logan', 'cordoba',\n",
       "       'sprinter', 'clk', 'zafira', 'lancer', 'superb', 'grand',\n",
       "       'ptcruiser', '90', 'carisma', 'sportage', 'doblo', 'rx_reihe',\n",
       "       'jazz', 'auris', 'galant', 'primera', 'voyager', '156', 'stilo',\n",
       "       'c4', 'forfour', 'roomster', 'legacy', 'tiguan', 'freelander',\n",
       "       'c5', 'mx_reihe', 'berlingo', 'bora', 'fox', 'octavia', 'm_klasse',\n",
       "       'q7', 'picanto', 'r19', 's_klasse', 'slk', 'c3', 'justy', 'niva',\n",
       "       'cx_reihe', 'mii', 'one', 'duster', 'jimny', 'viano', 'altea',\n",
       "       'm_reihe', 'amarok', 'q3', 'kuga', 'sorento', 'b_max', 'juke',\n",
       "       'q5', 'mustang', 'yeti', 'lodgy', 'x_trail', 'note', '911',\n",
       "       '5_reihe', 'touareg', 'verso', 'cherokee', 'avensis', 'vivaro',\n",
       "       'antara', 'spark', 'captiva', 'cayenne', 'exeo', 'aveo', 'v60',\n",
       "       'accord', 'outlander', 'eos', 's60', 'v70', 'navara', '159',\n",
       "       'charade', 'forester', 'glk', 'v50', 'pajero', 'delta', '300c',\n",
       "       'wrangler', 'z_reihe', 'sirion', 'phaeton', 'defender', 'matiz',\n",
       "       'discovery', 'seicento', 'v_klasse', 'terios', 'spider', 'boxster',\n",
       "       'range_rover_sport', 'x_type', 'croma', 'musa', 'kalina',\n",
       "       'g_klasse', '6er', 'materia', 'range_rover', 'crossfire', 'sl',\n",
       "       's_type', 'gl', 'kalos', 'rangerover', 'i3', 'nubira',\n",
       "       'range_rover_evoque', 'move', 'lybra', 'lanos', '145', '850',\n",
       "       'elefantino', 'kappa', 'samara', '9000', '200', '601', 'serie_2'],\n",
       "      dtype=object)"
      ]
     },
     "metadata": {},
     "output_type": "display_data"
    },
    {
     "name": "stdout",
     "output_type": "stream",
     "text": [
      "FuelType :\n"
     ]
    },
    {
     "data": {
      "text/plain": [
       "array(['other', 'gasoline', 'lpg', 'electric', 'hybrid', 'cng'],\n",
       "      dtype=object)"
      ]
     },
     "metadata": {},
     "output_type": "display_data"
    },
    {
     "name": "stdout",
     "output_type": "stream",
     "text": [
      "Brand :\n"
     ]
    },
    {
     "data": {
      "text/plain": [
       "array(['renault', 'audi', 'volvo', 'mazda', 'bmw', 'peugeot',\n",
       "       'volkswagen', 'opel', 'mercedes_benz', 'toyota', 'ford', 'fiat',\n",
       "       'seat', 'smart', 'nissan', 'suzuki', 'hyundai', 'daewoo', 'honda',\n",
       "       'mini', 'citroen', 'mitsubishi', 'skoda', 'kia', 'saab',\n",
       "       'alfa_romeo', 'subaru', 'daihatsu', 'lancia', 'rover', 'dacia',\n",
       "       'jeep', 'chrysler', 'sonstige_autos', 'land_rover', 'chevrolet',\n",
       "       'lada', 'porsche', 'jaguar', 'trabant'], dtype=object)"
      ]
     },
     "metadata": {},
     "output_type": "display_data"
    },
    {
     "name": "stdout",
     "output_type": "stream",
     "text": [
      "Repaired :\n"
     ]
    },
    {
     "data": {
      "text/plain": [
       "array(['unknown', 'no', 'yes'], dtype=object)"
      ]
     },
     "metadata": {},
     "output_type": "display_data"
    }
   ],
   "source": [
    "for i in df_autos_filtered:\n",
    "    if df_autos_filtered[i].dtype == 'object':\n",
    "        print(i, ':')\n",
    "        display(df_autos_filtered[i].unique())"
   ]
  },
  {
   "cell_type": "markdown",
   "id": "8013284b-97cc-4fad-a9e9-d6480eba0ffa",
   "metadata": {},
   "source": [
    "Посмотрим на числовые признаки после обработки."
   ]
  },
  {
   "cell_type": "code",
   "execution_count": 93,
   "id": "f11fedff-d855-4952-8b2d-0040b724be4e",
   "metadata": {},
   "outputs": [
    {
     "data": {
      "image/png": "[encoded data removed]",
      "text/plain": [
       "<Figure size 1700x500 with 3 Axes>"
      ]
     },
     "metadata": {},
     "output_type": "display_data"
    }
   ],
   "source": [
    "fig, axes = plt.subplots(nrows=1, ncols=3, figsize=(17, 5))\n",
    "\n",
    "col_hist = ['Power', 'CarAge', 'Price']\n",
    "\n",
    "for i, col in enumerate(col_hist):\n",
    "    sns.histplot(df_autos_filtered[col], ax=axes[i])  \n",
    "    axes[i].set_title(f'Гистограмма для признака {col}')\n",
    "    axes[i].set_xlabel(col)\n",
    "\n",
    "plt.tight_layout()\n",
    "plt.show()"
   ]
  },
  {
   "cell_type": "code",
   "execution_count": 94,
   "id": "1db26d41-5d78-4128-85ba-3fc17c39fad5",
   "metadata": {},
   "outputs": [
    {
     "data": {
      "image/png": "[encoded data removed]",
      "text/plain": [
       "<Figure size 2000x700 with 3 Axes>"
      ]
     },
     "metadata": {},
     "output_type": "display_data"
    }
   ],
   "source": [
    "fig, axes = plt.subplots(nrows=1, ncols=3, figsize=(20, 7))\n",
    "\n",
    "col_box = ['Power', 'CarAge', 'Price']\n",
    "\n",
    "for i, col in enumerate(col_box):\n",
    "    sns.boxplot(\n",
    "        data=df_autos_filtered, \n",
    "        y=col, \n",
    "        ax=axes[i],\n",
    "        color='skyblue', \n",
    "        showmeans=True,\n",
    "        meanprops={\"marker\": \"o\", \"markerfacecolor\": \"red\", \"markeredgecolor\": \"black\"}\n",
    "    )\n",
    "    axes[i].set_title(f'Боксплот для признака {col}', pad=10)\n",
    "    axes[i].set_ylabel(col, labelpad=10)\n",
    "\n",
    "plt.tight_layout(pad=3.0)\n",
    "plt.show()"
   ]
  },
  {
   "cell_type": "code",
   "execution_count": 95,
   "id": "09aa0022-f6ad-4716-9d82-490b2d2d5660",
   "metadata": {},
   "outputs": [
    {
     "data": {
      "text/html": [
       "<div>\n",
       "<style scoped>\n",
       "    .dataframe tbody tr th:only-of-type {\n",
       "        vertical-align: middle;\n",
       "    }\n",
       "\n",
       "    .dataframe tbody tr th {\n",
       "        vertical-align: top;\n",
       "    }\n",
       "\n",
       "    .dataframe thead th {\n",
       "        text-align: right;\n",
       "    }\n",
       "</style>\n",
       "<table border=\"1\" class=\"dataframe\">\n",
       "  <thead>\n",
       "    <tr style=\"text-align: right;\">\n",
       "      <th></th>\n",
       "      <th>VehicleType</th>\n",
       "      <th>Gearbox</th>\n",
       "      <th>Power</th>\n",
       "      <th>Model</th>\n",
       "      <th>Kilometer</th>\n",
       "      <th>FuelType</th>\n",
       "      <th>Brand</th>\n",
       "      <th>Repaired</th>\n",
       "      <th>CarAge</th>\n",
       "      <th>Price</th>\n",
       "      <th>MileageCat</th>\n",
       "    </tr>\n",
       "  </thead>\n",
       "  <tbody>\n",
       "    <tr>\n",
       "      <th>12343</th>\n",
       "      <td>N/A</td>\n",
       "      <td>manual</td>\n",
       "      <td>58</td>\n",
       "      <td>twingo</td>\n",
       "      <td>150000</td>\n",
       "      <td>other</td>\n",
       "      <td>renault</td>\n",
       "      <td>unknown</td>\n",
       "      <td>0.0</td>\n",
       "      <td>400</td>\n",
       "      <td>high</td>\n",
       "    </tr>\n",
       "    <tr>\n",
       "      <th>97056</th>\n",
       "      <td>wagon</td>\n",
       "      <td>manual</td>\n",
       "      <td>110</td>\n",
       "      <td>a3</td>\n",
       "      <td>5000</td>\n",
       "      <td>gasoline</td>\n",
       "      <td>audi</td>\n",
       "      <td>no</td>\n",
       "      <td>0.0</td>\n",
       "      <td>19800</td>\n",
       "      <td>low</td>\n",
       "    </tr>\n",
       "    <tr>\n",
       "      <th>283341</th>\n",
       "      <td>sedan</td>\n",
       "      <td>auto</td>\n",
       "      <td>114</td>\n",
       "      <td>other</td>\n",
       "      <td>5000</td>\n",
       "      <td>gasoline</td>\n",
       "      <td>renault</td>\n",
       "      <td>no</td>\n",
       "      <td>0.0</td>\n",
       "      <td>16200</td>\n",
       "      <td>low</td>\n",
       "    </tr>\n",
       "    <tr>\n",
       "      <th>116440</th>\n",
       "      <td>N/A</td>\n",
       "      <td>auto</td>\n",
       "      <td>163</td>\n",
       "      <td>a6</td>\n",
       "      <td>150000</td>\n",
       "      <td>other</td>\n",
       "      <td>audi</td>\n",
       "      <td>yes</td>\n",
       "      <td>0.0</td>\n",
       "      <td>1350</td>\n",
       "      <td>high</td>\n",
       "    </tr>\n",
       "    <tr>\n",
       "      <th>233088</th>\n",
       "      <td>N/A</td>\n",
       "      <td>manual</td>\n",
       "      <td>125</td>\n",
       "      <td>a3</td>\n",
       "      <td>150000</td>\n",
       "      <td>gasoline</td>\n",
       "      <td>audi</td>\n",
       "      <td>no</td>\n",
       "      <td>-0.0</td>\n",
       "      <td>900</td>\n",
       "      <td>high</td>\n",
       "    </tr>\n",
       "  </tbody>\n",
       "</table>\n",
       "</div>"
      ],
      "text/plain": [
       "       VehicleType Gearbox  Power   Model  Kilometer  FuelType    Brand  \\\n",
       "12343          N/A  manual     58  twingo     150000     other  renault   \n",
       "97056        wagon  manual    110      a3       5000  gasoline     audi   \n",
       "283341       sedan    auto    114   other       5000  gasoline  renault   \n",
       "116440         N/A    auto    163      a6     150000     other     audi   \n",
       "233088         N/A  manual    125      a3     150000  gasoline     audi   \n",
       "\n",
       "       Repaired  CarAge  Price MileageCat  \n",
       "12343   unknown     0.0    400       high  \n",
       "97056        no     0.0  19800        low  \n",
       "283341       no     0.0  16200        low  \n",
       "116440      yes     0.0   1350       high  \n",
       "233088       no    -0.0    900       high  "
      ]
     },
     "metadata": {},
     "output_type": "display_data"
    },
    {
     "name": "stdout",
     "output_type": "stream",
     "text": [
      "<class 'pandas.core.frame.DataFrame'>\n",
      "Index: 267901 entries, 12343 to 49875\n",
      "Data columns (total 11 columns):\n",
      " #   Column       Non-Null Count   Dtype   \n",
      "---  ------       --------------   -----   \n",
      " 0   VehicleType  267901 non-null  object  \n",
      " 1   Gearbox      267901 non-null  object  \n",
      " 2   Power        267901 non-null  int64   \n",
      " 3   Model        267901 non-null  object  \n",
      " 4   Kilometer    267901 non-null  int64   \n",
      " 5   FuelType     267901 non-null  object  \n",
      " 6   Brand        267901 non-null  object  \n",
      " 7   Repaired     267901 non-null  object  \n",
      " 8   CarAge       267901 non-null  float64 \n",
      " 9   Price        267901 non-null  int64   \n",
      " 10  MileageCat   267901 non-null  category\n",
      "dtypes: category(1), float64(1), int64(3), object(6)\n",
      "memory usage: 22.7+ MB\n"
     ]
    },
    {
     "data": {
      "text/html": [
       "<div>\n",
       "<style scoped>\n",
       "    .dataframe tbody tr th:only-of-type {\n",
       "        vertical-align: middle;\n",
       "    }\n",
       "\n",
       "    .dataframe tbody tr th {\n",
       "        vertical-align: top;\n",
       "    }\n",
       "\n",
       "    .dataframe thead th {\n",
       "        text-align: right;\n",
       "    }\n",
       "</style>\n",
       "<table border=\"1\" class=\"dataframe\">\n",
       "  <thead>\n",
       "    <tr style=\"text-align: right;\">\n",
       "      <th></th>\n",
       "      <th>Power</th>\n",
       "      <th>Kilometer</th>\n",
       "      <th>CarAge</th>\n",
       "      <th>Price</th>\n",
       "    </tr>\n",
       "  </thead>\n",
       "  <tbody>\n",
       "    <tr>\n",
       "      <th>count</th>\n",
       "      <td>267901.000000</td>\n",
       "      <td>267901.000000</td>\n",
       "      <td>267901.000000</td>\n",
       "      <td>267901.000000</td>\n",
       "    </tr>\n",
       "    <tr>\n",
       "      <th>mean</th>\n",
       "      <td>122.379767</td>\n",
       "      <td>128492.764118</td>\n",
       "      <td>12.773160</td>\n",
       "      <td>4976.904916</td>\n",
       "    </tr>\n",
       "    <tr>\n",
       "      <th>std</th>\n",
       "      <td>52.984661</td>\n",
       "      <td>36415.502383</td>\n",
       "      <td>5.708738</td>\n",
       "      <td>4603.559406</td>\n",
       "    </tr>\n",
       "    <tr>\n",
       "      <th>min</th>\n",
       "      <td>45.000000</td>\n",
       "      <td>5000.000000</td>\n",
       "      <td>0.000000</td>\n",
       "      <td>300.000000</td>\n",
       "    </tr>\n",
       "    <tr>\n",
       "      <th>25%</th>\n",
       "      <td>80.000000</td>\n",
       "      <td>125000.000000</td>\n",
       "      <td>8.660000</td>\n",
       "      <td>1450.000000</td>\n",
       "    </tr>\n",
       "    <tr>\n",
       "      <th>50%</th>\n",
       "      <td>115.000000</td>\n",
       "      <td>150000.000000</td>\n",
       "      <td>12.610000</td>\n",
       "      <td>3300.000000</td>\n",
       "    </tr>\n",
       "    <tr>\n",
       "      <th>75%</th>\n",
       "      <td>150.000000</td>\n",
       "      <td>150000.000000</td>\n",
       "      <td>16.610000</td>\n",
       "      <td>7000.000000</td>\n",
       "    </tr>\n",
       "    <tr>\n",
       "      <th>max</th>\n",
       "      <td>500.000000</td>\n",
       "      <td>150000.000000</td>\n",
       "      <td>36.260000</td>\n",
       "      <td>20000.000000</td>\n",
       "    </tr>\n",
       "  </tbody>\n",
       "</table>\n",
       "</div>"
      ],
      "text/plain": [
       "               Power      Kilometer         CarAge          Price\n",
       "count  267901.000000  267901.000000  267901.000000  267901.000000\n",
       "mean      122.379767  128492.764118      12.773160    4976.904916\n",
       "std        52.984661   36415.502383       5.708738    4603.559406\n",
       "min        45.000000    5000.000000       0.000000     300.000000\n",
       "25%        80.000000  125000.000000       8.660000    1450.000000\n",
       "50%       115.000000  150000.000000      12.610000    3300.000000\n",
       "75%       150.000000  150000.000000      16.610000    7000.000000\n",
       "max       500.000000  150000.000000      36.260000   20000.000000"
      ]
     },
     "metadata": {},
     "output_type": "display_data"
    }
   ],
   "source": [
    "df_review(df_autos_filtered)"
   ]
  },
  {
   "cell_type": "markdown",
   "id": "65554bf5-144f-4b39-9719-0615e9de6efa",
   "metadata": {},
   "source": [
    "## Обучение моделей"
   ]
  },
  {
   "cell_type": "code",
   "execution_count": 97,
   "id": "ad089d7f-9dac-46d4-8d2c-babef88659f0",
   "metadata": {},
   "outputs": [],
   "source": [
    "interval_cols = ['Power', 'CarAge', 'Price']"
   ]
  },
  {
   "cell_type": "code",
   "execution_count": 98,
   "id": "c6b89cfe-d13b-4025-9c81-e5fa02c99599",
   "metadata": {},
   "outputs": [
    {
     "data": {
      "text/html": [
       "<div>\n",
       "<style scoped>\n",
       "    .dataframe tbody tr th:only-of-type {\n",
       "        vertical-align: middle;\n",
       "    }\n",
       "\n",
       "    .dataframe tbody tr th {\n",
       "        vertical-align: top;\n",
       "    }\n",
       "\n",
       "    .dataframe thead th {\n",
       "        text-align: right;\n",
       "    }\n",
       "</style>\n",
       "<table border=\"1\" class=\"dataframe\">\n",
       "  <thead>\n",
       "    <tr style=\"text-align: right;\">\n",
       "      <th></th>\n",
       "      <th>VehicleType</th>\n",
       "      <th>Gearbox</th>\n",
       "      <th>Power</th>\n",
       "      <th>Model</th>\n",
       "      <th>Kilometer</th>\n",
       "      <th>FuelType</th>\n",
       "      <th>Brand</th>\n",
       "      <th>Repaired</th>\n",
       "      <th>CarAge</th>\n",
       "      <th>Price</th>\n",
       "      <th>MileageCat</th>\n",
       "    </tr>\n",
       "  </thead>\n",
       "  <tbody>\n",
       "    <tr>\n",
       "      <th>VehicleType</th>\n",
       "      <td>1.000000</td>\n",
       "      <td>0.383637</td>\n",
       "      <td>0.477058</td>\n",
       "      <td>0.902633</td>\n",
       "      <td>0.199063</td>\n",
       "      <td>0.248411</td>\n",
       "      <td>0.594370</td>\n",
       "      <td>0.299837</td>\n",
       "      <td>0.260249</td>\n",
       "      <td>0.259438</td>\n",
       "      <td>0.287287</td>\n",
       "    </tr>\n",
       "    <tr>\n",
       "      <th>Gearbox</th>\n",
       "      <td>0.383637</td>\n",
       "      <td>1.000000</td>\n",
       "      <td>0.469228</td>\n",
       "      <td>0.624905</td>\n",
       "      <td>0.050467</td>\n",
       "      <td>0.215244</td>\n",
       "      <td>0.519205</td>\n",
       "      <td>0.247985</td>\n",
       "      <td>0.121697</td>\n",
       "      <td>0.286204</td>\n",
       "      <td>0.070402</td>\n",
       "    </tr>\n",
       "    <tr>\n",
       "      <th>Power</th>\n",
       "      <td>0.477058</td>\n",
       "      <td>0.469228</td>\n",
       "      <td>1.000000</td>\n",
       "      <td>0.770362</td>\n",
       "      <td>0.113339</td>\n",
       "      <td>0.090154</td>\n",
       "      <td>0.561293</td>\n",
       "      <td>0.083282</td>\n",
       "      <td>0.257868</td>\n",
       "      <td>0.505411</td>\n",
       "      <td>0.126390</td>\n",
       "    </tr>\n",
       "    <tr>\n",
       "      <th>Model</th>\n",
       "      <td>0.902633</td>\n",
       "      <td>0.624905</td>\n",
       "      <td>0.770362</td>\n",
       "      <td>1.000000</td>\n",
       "      <td>0.440053</td>\n",
       "      <td>0.335320</td>\n",
       "      <td>0.997796</td>\n",
       "      <td>0.211648</td>\n",
       "      <td>0.614637</td>\n",
       "      <td>0.568275</td>\n",
       "      <td>0.501395</td>\n",
       "    </tr>\n",
       "    <tr>\n",
       "      <th>Kilometer</th>\n",
       "      <td>0.199063</td>\n",
       "      <td>0.050467</td>\n",
       "      <td>0.113339</td>\n",
       "      <td>0.440053</td>\n",
       "      <td>1.000000</td>\n",
       "      <td>0.086805</td>\n",
       "      <td>0.266505</td>\n",
       "      <td>0.177698</td>\n",
       "      <td>0.485195</td>\n",
       "      <td>0.329420</td>\n",
       "      <td>1.000000</td>\n",
       "    </tr>\n",
       "    <tr>\n",
       "      <th>FuelType</th>\n",
       "      <td>0.248411</td>\n",
       "      <td>0.215244</td>\n",
       "      <td>0.090154</td>\n",
       "      <td>0.335320</td>\n",
       "      <td>0.086805</td>\n",
       "      <td>1.000000</td>\n",
       "      <td>0.197829</td>\n",
       "      <td>0.271827</td>\n",
       "      <td>0.104509</td>\n",
       "      <td>0.099466</td>\n",
       "      <td>0.120694</td>\n",
       "    </tr>\n",
       "    <tr>\n",
       "      <th>Brand</th>\n",
       "      <td>0.594370</td>\n",
       "      <td>0.519205</td>\n",
       "      <td>0.561293</td>\n",
       "      <td>0.997796</td>\n",
       "      <td>0.266505</td>\n",
       "      <td>0.197829</td>\n",
       "      <td>1.000000</td>\n",
       "      <td>0.110510</td>\n",
       "      <td>0.325428</td>\n",
       "      <td>0.352058</td>\n",
       "      <td>0.317296</td>\n",
       "    </tr>\n",
       "    <tr>\n",
       "      <th>Repaired</th>\n",
       "      <td>0.299837</td>\n",
       "      <td>0.247985</td>\n",
       "      <td>0.083282</td>\n",
       "      <td>0.211648</td>\n",
       "      <td>0.177698</td>\n",
       "      <td>0.271827</td>\n",
       "      <td>0.110510</td>\n",
       "      <td>1.000000</td>\n",
       "      <td>0.216715</td>\n",
       "      <td>0.309733</td>\n",
       "      <td>0.235209</td>\n",
       "    </tr>\n",
       "    <tr>\n",
       "      <th>CarAge</th>\n",
       "      <td>0.260249</td>\n",
       "      <td>0.121697</td>\n",
       "      <td>0.257868</td>\n",
       "      <td>0.614637</td>\n",
       "      <td>0.485195</td>\n",
       "      <td>0.104509</td>\n",
       "      <td>0.325428</td>\n",
       "      <td>0.216715</td>\n",
       "      <td>1.000000</td>\n",
       "      <td>0.688742</td>\n",
       "      <td>0.568356</td>\n",
       "    </tr>\n",
       "    <tr>\n",
       "      <th>Price</th>\n",
       "      <td>0.259438</td>\n",
       "      <td>0.286204</td>\n",
       "      <td>0.505411</td>\n",
       "      <td>0.568275</td>\n",
       "      <td>0.329420</td>\n",
       "      <td>0.099466</td>\n",
       "      <td>0.352058</td>\n",
       "      <td>0.309733</td>\n",
       "      <td>0.688742</td>\n",
       "      <td>1.000000</td>\n",
       "      <td>0.397285</td>\n",
       "    </tr>\n",
       "    <tr>\n",
       "      <th>MileageCat</th>\n",
       "      <td>0.287287</td>\n",
       "      <td>0.070402</td>\n",
       "      <td>0.126390</td>\n",
       "      <td>0.501395</td>\n",
       "      <td>1.000000</td>\n",
       "      <td>0.120694</td>\n",
       "      <td>0.317296</td>\n",
       "      <td>0.235209</td>\n",
       "      <td>0.568356</td>\n",
       "      <td>0.397285</td>\n",
       "      <td>1.000000</td>\n",
       "    </tr>\n",
       "  </tbody>\n",
       "</table>\n",
       "</div>"
      ],
      "text/plain": [
       "             VehicleType   Gearbox     Power     Model  Kilometer  FuelType  \\\n",
       "VehicleType     1.000000  0.383637  0.477058  0.902633   0.199063  0.248411   \n",
       "Gearbox         0.383637  1.000000  0.469228  0.624905   0.050467  0.215244   \n",
       "Power           0.477058  0.469228  1.000000  0.770362   0.113339  0.090154   \n",
       "Model           0.902633  0.624905  0.770362  1.000000   0.440053  0.335320   \n",
       "Kilometer       0.199063  0.050467  0.113339  0.440053   1.000000  0.086805   \n",
       "FuelType        0.248411  0.215244  0.090154  0.335320   0.086805  1.000000   \n",
       "Brand           0.594370  0.519205  0.561293  0.997796   0.266505  0.197829   \n",
       "Repaired        0.299837  0.247985  0.083282  0.211648   0.177698  0.271827   \n",
       "CarAge          0.260249  0.121697  0.257868  0.614637   0.485195  0.104509   \n",
       "Price           0.259438  0.286204  0.505411  0.568275   0.329420  0.099466   \n",
       "MileageCat      0.287287  0.070402  0.126390  0.501395   1.000000  0.120694   \n",
       "\n",
       "                Brand  Repaired    CarAge     Price  MileageCat  \n",
       "VehicleType  0.594370  0.299837  0.260249  0.259438    0.287287  \n",
       "Gearbox      0.519205  0.247985  0.121697  0.286204    0.070402  \n",
       "Power        0.561293  0.083282  0.257868  0.505411    0.126390  \n",
       "Model        0.997796  0.211648  0.614637  0.568275    0.501395  \n",
       "Kilometer    0.266505  0.177698  0.485195  0.329420    1.000000  \n",
       "FuelType     0.197829  0.271827  0.104509  0.099466    0.120694  \n",
       "Brand        1.000000  0.110510  0.325428  0.352058    0.317296  \n",
       "Repaired     0.110510  1.000000  0.216715  0.309733    0.235209  \n",
       "CarAge       0.325428  0.216715  1.000000  0.688742    0.568356  \n",
       "Price        0.352058  0.309733  0.688742  1.000000    0.397285  \n",
       "MileageCat   0.317296  0.235209  0.568356  0.397285    1.000000  "
      ]
     },
     "execution_count": 98,
     "metadata": {},
     "output_type": "execute_result"
    }
   ],
   "source": [
    "phik_correlation = df_autos_filtered.phik_matrix(interval_cols=interval_cols)\n",
    "phik_correlation"
   ]
  },
  {
   "cell_type": "code",
   "execution_count": 99,
   "id": "2756b34f-6c73-4097-a5fa-b8db7d87ed31",
   "metadata": {},
   "outputs": [
    {
     "data": {
      "image/png": "[encoded data removed]",
      "text/plain": [
       "<Figure size 1500x1000 with 2 Axes>"
      ]
     },
     "metadata": {},
     "output_type": "display_data"
    }
   ],
   "source": [
    "plt.figure(figsize=(15, 10))\n",
    "sns.heatmap(phik_correlation, annot=True, cmap='crest')\n",
    "plt.title('Матрица корреляции тренировочных данных');"
   ]
  },
  {
   "cell_type": "markdown",
   "id": "650ceee9-a053-4829-83b5-3a9012a79dac",
   "metadata": {},
   "source": [
    "Т.к. коэффициент корреляции между указанными признаками не превышает 0.8, все входные признаки будут использованы для обучения модели."
   ]
  },
  {
   "cell_type": "code",
   "execution_count": 101,
   "id": "eb1f37a9-11db-4e8c-9084-b04850808e5d",
   "metadata": {},
   "outputs": [
    {
     "data": {
      "text/html": [
       "<div>\n",
       "<style scoped>\n",
       "    .dataframe tbody tr th:only-of-type {\n",
       "        vertical-align: middle;\n",
       "    }\n",
       "\n",
       "    .dataframe tbody tr th {\n",
       "        vertical-align: top;\n",
       "    }\n",
       "\n",
       "    .dataframe thead th {\n",
       "        text-align: right;\n",
       "    }\n",
       "</style>\n",
       "<table border=\"1\" class=\"dataframe\">\n",
       "  <thead>\n",
       "    <tr style=\"text-align: right;\">\n",
       "      <th></th>\n",
       "      <th>VehicleType</th>\n",
       "      <th>Gearbox</th>\n",
       "      <th>Power</th>\n",
       "      <th>Model</th>\n",
       "      <th>FuelType</th>\n",
       "      <th>Brand</th>\n",
       "      <th>Repaired</th>\n",
       "      <th>CarAge</th>\n",
       "      <th>MileageCat</th>\n",
       "      <th>Price</th>\n",
       "    </tr>\n",
       "  </thead>\n",
       "  <tbody>\n",
       "    <tr>\n",
       "      <th>12343</th>\n",
       "      <td>N/A</td>\n",
       "      <td>manual</td>\n",
       "      <td>58</td>\n",
       "      <td>twingo</td>\n",
       "      <td>other</td>\n",
       "      <td>renault</td>\n",
       "      <td>unknown</td>\n",
       "      <td>0.0</td>\n",
       "      <td>high</td>\n",
       "      <td>400</td>\n",
       "    </tr>\n",
       "    <tr>\n",
       "      <th>97056</th>\n",
       "      <td>wagon</td>\n",
       "      <td>manual</td>\n",
       "      <td>110</td>\n",
       "      <td>a3</td>\n",
       "      <td>gasoline</td>\n",
       "      <td>audi</td>\n",
       "      <td>no</td>\n",
       "      <td>0.0</td>\n",
       "      <td>low</td>\n",
       "      <td>19800</td>\n",
       "    </tr>\n",
       "    <tr>\n",
       "      <th>283341</th>\n",
       "      <td>sedan</td>\n",
       "      <td>auto</td>\n",
       "      <td>114</td>\n",
       "      <td>other</td>\n",
       "      <td>gasoline</td>\n",
       "      <td>renault</td>\n",
       "      <td>no</td>\n",
       "      <td>0.0</td>\n",
       "      <td>low</td>\n",
       "      <td>16200</td>\n",
       "    </tr>\n",
       "    <tr>\n",
       "      <th>116440</th>\n",
       "      <td>N/A</td>\n",
       "      <td>auto</td>\n",
       "      <td>163</td>\n",
       "      <td>a6</td>\n",
       "      <td>other</td>\n",
       "      <td>audi</td>\n",
       "      <td>yes</td>\n",
       "      <td>0.0</td>\n",
       "      <td>high</td>\n",
       "      <td>1350</td>\n",
       "    </tr>\n",
       "    <tr>\n",
       "      <th>233088</th>\n",
       "      <td>N/A</td>\n",
       "      <td>manual</td>\n",
       "      <td>125</td>\n",
       "      <td>a3</td>\n",
       "      <td>gasoline</td>\n",
       "      <td>audi</td>\n",
       "      <td>no</td>\n",
       "      <td>-0.0</td>\n",
       "      <td>high</td>\n",
       "      <td>900</td>\n",
       "    </tr>\n",
       "  </tbody>\n",
       "</table>\n",
       "</div>"
      ],
      "text/plain": [
       "       VehicleType Gearbox  Power   Model  FuelType    Brand Repaired  CarAge  \\\n",
       "12343          N/A  manual     58  twingo     other  renault  unknown     0.0   \n",
       "97056        wagon  manual    110      a3  gasoline     audi       no     0.0   \n",
       "283341       sedan    auto    114   other  gasoline  renault       no     0.0   \n",
       "116440         N/A    auto    163      a6     other     audi      yes     0.0   \n",
       "233088         N/A  manual    125      a3  gasoline     audi       no    -0.0   \n",
       "\n",
       "       MileageCat  Price  \n",
       "12343        high    400  \n",
       "97056         low  19800  \n",
       "283341        low  16200  \n",
       "116440       high   1350  \n",
       "233088       high    900  "
      ]
     },
     "execution_count": 101,
     "metadata": {},
     "output_type": "execute_result"
    }
   ],
   "source": [
    "columns = ['VehicleType', 'Gearbox', 'Power', 'Model', 'FuelType', 'Brand',\n",
    "           'Repaired', 'CarAge', 'MileageCat', 'Price']\n",
    "df_model = df_autos_filtered[columns].copy()\n",
    "df_model.head(5)"
   ]
  },
  {
   "cell_type": "code",
   "execution_count": 102,
   "id": "f668d96c-d374-4c1a-8429-87c13ea77ff2",
   "metadata": {},
   "outputs": [],
   "source": [
    "df_model=df_model.reset_index(drop=True)"
   ]
  },
  {
   "cell_type": "code",
   "execution_count": 103,
   "id": "2dbe7d1b-4fc4-4294-8663-8b87c67a95fa",
   "metadata": {},
   "outputs": [],
   "source": [
    "X = df_model.drop(['Price'], axis=1)\n",
    "y = df_model['Price']"
   ]
  },
  {
   "cell_type": "code",
   "execution_count": 104,
   "id": "57b31561-8c22-4bc5-bf08-04892f867ac9",
   "metadata": {},
   "outputs": [],
   "source": [
    "cat_cols = ['VehicleType', 'Gearbox', 'Model', 'FuelType', 'Brand', 'Repaired', 'MileageCat']\n",
    "num_cols = ['Power', 'CarAge']"
   ]
  },
  {
   "cell_type": "code",
   "execution_count": 105,
   "id": "2f4239b7-4b90-4776-ac53-4977da1f5d76",
   "metadata": {},
   "outputs": [],
   "source": [
    "num_transformer = Pipeline([\n",
    "    (\"scaler\", StandardScaler())\n",
    "])\n",
    "\n",
    "cat_transformer = Pipeline([\n",
    "    (\"onehot\", OneHotEncoder(handle_unknown=\"ignore\"))\n",
    "])\n",
    "\n",
    "preprocessor = ColumnTransformer([\n",
    "    (\"num\", Pipeline([(\"scaler\", StandardScaler())]), num_cols),\n",
    "    (\"cat\", Pipeline([(\"onehot\", OneHotEncoder(handle_unknown=\"ignore\"))]), cat_cols),\n",
    "])"
   ]
  },
  {
   "cell_type": "code",
   "execution_count": 106,
   "id": "554a0cc4-3095-47af-a204-1572796045a2",
   "metadata": {},
   "outputs": [],
   "source": [
    "TEST_SIZE = 0.25\n",
    "RANDOM_STATE = 42\n",
    "\n",
    "X_train, X_test, y_train, y_test = train_test_split(\n",
    "    X,\n",
    "    y,\n",
    "    test_size = TEST_SIZE,\n",
    "    random_state = RANDOM_STATE\n",
    ")"
   ]
  },
  {
   "cell_type": "markdown",
   "id": "cacc682f-8985-42bb-a3ae-d2a70d149910",
   "metadata": {},
   "source": [
    "Создадим пайплайны для обучения моделей. Будем обучать LigtGBM, RandomForest и LinearRegression."
   ]
  },
  {
   "cell_type": "code",
   "execution_count": 108,
   "id": "0ad2b6fd-bfab-4e32-ac94-fafaac5588da",
   "metadata": {},
   "outputs": [],
   "source": [
    "lgb_pipeline = Pipeline([\n",
    "    (\"preprocessor\", preprocessor),\n",
    "    (\"model\", lgb.LGBMRegressor(random_state=RANDOM_STATE, n_jobs=-1, verbosity=-1)),\n",
    "])\n",
    "\n",
    "lgb_param_dist = {\n",
    "    \"model__n_estimators\": [100, 150, 200, 250],\n",
    "    \"model__learning_rate\": uniform(0.03, 0.05),\n",
    "    \"model__num_leaves\": [20, 31, 40, 50, 63],\n",
    "    \"model__max_depth\": [4, 6, 8],\n",
    "}"
   ]
  },
  {
   "cell_type": "code",
   "execution_count": 109,
   "id": "e07be437-826f-4ace-a92e-fefa371375f6",
   "metadata": {},
   "outputs": [],
   "source": [
    "rf_pipeline = Pipeline([\n",
    "    (\"preprocessor\", preprocessor),\n",
    "    (\"model\", RandomForestRegressor(random_state=RANDOM_STATE, n_jobs=-1, bootstrap=True)),\n",
    "])\n",
    "\n",
    "rf_param_dist = {\n",
    "    \"model__n_estimators\": [100, 150, 200, 250],\n",
    "    \"model__max_depth\": [5, 10, 15],\n",
    "    \"model__min_samples_split\": [2, 3, 4],\n",
    "    \"model__min_samples_leaf\": [1, 2],\n",
    "    \"model__max_features\": [\"sqrt\", \"log2\", 0.3],\n",
    "}"
   ]
  },
  {
   "cell_type": "code",
   "execution_count": 110,
   "id": "b791d202-1bbd-49ca-ada3-1faa14252645",
   "metadata": {},
   "outputs": [],
   "source": [
    "linear_pipeline = Pipeline([\n",
    "    (\"preprocessor\", preprocessor),\n",
    "    (\"model\", LinearRegression()),\n",
    "])\n",
    "\n",
    "linear_param_dist = {\n",
    "    \"model__fit_intercept\": [True, False],\n",
    "    \"model__positive\": [True, False],\n",
    "}"
   ]
  },
  {
   "cell_type": "code",
   "execution_count": 111,
   "id": "b15d87b2-9cc3-4db7-a090-30fceec1044d",
   "metadata": {},
   "outputs": [],
   "source": [
    "bench = []\n",
    "\n",
    "lgb_s, lgb_t = run_search(\"LightGBM\", lgb_pipeline, lgb_param_dist)\n",
    "lgb_pred, lgb_pt = timed_pred(lgb_s.best_estimator_)\n",
    "bench.append(evaluate(\"LightGBM\", lgb_pred, lgb_t, lgb_pt))\n",
    "\n",
    "rf_s, rf_t = run_search(\"RandomForest\", rf_pipeline, rf_param_dist)\n",
    "rf_pred, rf_pt = timed_pred(rf_s.best_estimator_)\n",
    "bench.append(evaluate(\"RandomForest\", rf_pred, rf_t, rf_pt))\n",
    "\n",
    "lin_s, lin_t = run_search(\"LinearRegression\", linear_pipeline, linear_param_dist)\n",
    "lin_pred, lin_pt = timed_pred(lin_s.best_estimator_)\n",
    "bench.append(evaluate(\"LinearRegression\", lin_pred, lin_t, lin_pt))"
   ]
  },
  {
   "cell_type": "code",
   "execution_count": 112,
   "id": "dac03021-2b6a-424f-9c95-eefb7770c44f",
   "metadata": {},
   "outputs": [
    {
     "name": "stdout",
     "output_type": "stream",
     "text": [
      "              Model         RMSE  TrainTime_s  PredictTime_ms  Pass\n",
      "0          LightGBM  1629.586788    30.231811      119.918917  True\n",
      "1      RandomForest  1646.840129   199.524323      152.872250  True\n",
      "2  LinearRegression  2431.943954     2.963658       39.920750  True\n"
     ]
    }
   ],
   "source": [
    "res = pd.DataFrame(bench).sort_values([\"Pass\", \"RMSE\"], ascending=[False, True]).reset_index(drop=True)\n",
    "print(res)"
   ]
  },
  {
   "cell_type": "code",
   "execution_count": 119,
   "id": "ec44dad6-b30b-4c00-b7e7-cd8788d78aac",
   "metadata": {},
   "outputs": [
    {
     "name": "stdout",
     "output_type": "stream",
     "text": [
      "Лучший показатель RMSE = 1629.59 (< 2500)\n"
     ]
    }
   ],
   "source": [
    "best_rmse = res.loc[0, \"RMSE\"]\n",
    "if best_rmse >= 2500:\n",
    "    raise ValueError(f\"Ни одна модель не прошла порог RMSE < {2500}. Лучший показатель = {best_rmse:.2f}\")\n",
    "else:\n",
    "    print(f\"Лучший показатель RMSE = {best_rmse:.2f} (< {2500})\")"
   ]
  },
  {
   "cell_type": "code",
   "execution_count": 117,
   "id": "196ecf47-65ed-40dd-8569-23d80893df0f",
   "metadata": {},
   "outputs": [
    {
     "name": "stdout",
     "output_type": "stream",
     "text": [
      "Финальная оценка модели на тестовой выборке\n",
      "Название выбранной модели: LightGBM\n",
      "RMSE: 1629.59\n",
      "MAE : 1063.62\n",
      "R²  : 0.873\n"
     ]
    }
   ],
   "source": [
    "selected_name = res.loc[0, \"Model\"]\n",
    "selected_est = {\n",
    "    \"LightGBM\": lgb_s.best_estimator_,\n",
    "    \"RandomForest\": rf_s.best_estimator_,\n",
    "    \"LinearRegression\": lin_s.best_estimator_,\n",
    "}[selected_name]\n",
    "\n",
    "y_pred_final = selected_est.predict(X_test)\n",
    "rmse_final = mean_squared_error(y_test, y_pred_final, squared=False)\n",
    "mae_final = mean_squared_error(y_test, y_pred_final, squared=False)\n",
    "from sklearn.metrics import mean_absolute_error, r2_score\n",
    "mae_final = mean_absolute_error(y_test, y_pred_final)\n",
    "r2_final = r2_score(y_test, y_pred_final)\n",
    "\n",
    "print(\"Финальная оценка модели на тестовой выборке\")\n",
    "print(f\"Название выбранной модели: {selected_name}\")\n",
    "print(f\"RMSE: {rmse_final:.2f}\")\n",
    "print(f\"MAE : {mae_final:.2f}\")\n",
    "print(f\"R²  : {r2_final:.3f}\")"
   ]
  },
  {
   "cell_type": "markdown",
   "id": "d4d2faeb-9820-44ef-981e-f681e2d704bc",
   "metadata": {},
   "source": [
    "**Вывод:**     \n",
    "Лучшую точность среди всех трёх кандидатов (RMSE и MAE минимальны) показала модель LightGBM."
   ]
  },
  {
   "cell_type": "code",
   "execution_count": null,
   "id": "72e0b87c-5e26-4870-840e-66f30f6902ff",
   "metadata": {},
   "outputs": [],
   "source": []
  }
 ],
 "metadata": {
  "kernelspec": {
   "display_name": "Python [conda env:base] *",
   "language": "python",
   "name": "conda-base-py"
  },
  "language_info": {
   "codemirror_mode": {
    "name": "ipython",
    "version": 3
   },
   "file_extension": ".py",
   "mimetype": "text/x-python",
   "name": "python",
   "nbconvert_exporter": "python",
   "pygments_lexer": "ipython3",
   "version": "3.12.7"
  }
 },
 "nbformat": 4,
 "nbformat_minor": 5
}
